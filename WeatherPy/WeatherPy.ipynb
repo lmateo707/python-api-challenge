{
 "cells": [
  {
   "cell_type": "markdown",
   "metadata": {},
   "source": [
    "# WeatherPy\n",
    "----\n",
    "\n",
    "#### Note\n",
    "* Instructions have been included for each segment. You do not have to follow them exactly, but they are included to help you think through the steps."
   ]
  },
  {
   "cell_type": "code",
   "execution_count": 1,
   "metadata": {},
   "outputs": [
    {
     "name": "stdout",
     "output_type": "stream",
     "text": [
      "Requirement already satisfied: citipy in c:\\users\\mateo\\anaconda3\\envs\\pythondata\\lib\\site-packages (0.0.5)\n",
      "Requirement already satisfied: kdtree>=0.12 in c:\\users\\mateo\\anaconda3\\envs\\pythondata\\lib\\site-packages (from citipy) (0.16)\n"
     ]
    }
   ],
   "source": [
    "!pip install citipy"
   ]
  },
  {
   "cell_type": "code",
   "execution_count": 2,
   "metadata": {
    "scrolled": true
   },
   "outputs": [],
   "source": [
    "# Dependencies and Setup\n",
    "import matplotlib.pyplot as plt\n",
    "import pandas as pd\n",
    "import numpy as np\n",
    "import requests\n",
    "import time\n",
    "from scipy.stats import linregress\n",
    "import scipy.stats as st\n",
    "from sklearn import datasets\n",
    "\n",
    "\n",
    "# Import API key\n",
    "from api_keys import weather_api_key\n",
    "temp_units = \"Imperial\"\n",
    "weather_api_key = \"815723b5303463214a58c63ab1eefd9f\"\n",
    "api_key = weather_api_key\n",
    "# Incorporated citipy to determine city based on latitude and longitude\n",
    "from citipy import citipy\n",
    "\n",
    "# Output File (CSV)\n",
    "output_data_file = \"output/cities.csv\"\n",
    "\n",
    "# Range of latitudes and longitudes\n",
    "lat_range = (-90, 90)\n",
    "lng_range = (-180, 180)\n",
    "\n",
    "query_url = f\"http://api.openweathermap.org/data/2.5/weather?appid={api_key}&units={temp_units}&q=\"\n",
    "count = 0\n",
    "set_one = 1\n",
    "\n",
    "\n",
    "# url = \"http://api.openweathermap.org/data/2.5/weather?\"\n",
    "# units = \"metric\"\n",
    "\n",
    "# # Build partial query URL\n",
    "# query_url = f\"{url}appid={api_key}&units={units}&q=\"\n",
    "\n"
   ]
  },
  {
   "cell_type": "markdown",
   "metadata": {},
   "source": [
    "## Generate Cities List"
   ]
  },
  {
   "cell_type": "code",
   "execution_count": 3,
   "metadata": {},
   "outputs": [
    {
     "data": {
      "text/plain": [
       "610"
      ]
     },
     "execution_count": 3,
     "metadata": {},
     "output_type": "execute_result"
    }
   ],
   "source": [
    "# List for holding lat_lngs and cities\n",
    "lat_lngs = []\n",
    "cities = []\n",
    "\n",
    "# Create a set of random lat and lng combinations\n",
    "lats = np.random.uniform(lat_range[0], lat_range[1], size=1500)\n",
    "lngs = np.random.uniform(lng_range[0], lng_range[1], size=1500)\n",
    "lat_lngs = zip(lats, lngs)\n",
    "\n",
    "# Identify nearest city for each lat, lng combination\n",
    "for lat_lng in lat_lngs:\n",
    "    city = citipy.nearest_city(lat_lng[0], lat_lng[1]).city_name\n",
    "    \n",
    "    # If the city is unique, then add it to a our cities list\n",
    "    if city not in cities:\n",
    "        cities.append(city)\n",
    "\n",
    "# Print the city count to confirm sufficient count\n",
    "len(cities)\n"
   ]
  },
  {
   "cell_type": "markdown",
   "metadata": {},
   "source": [
    "### Perform API Calls\n",
    "* Perform a weather check on each city using a series of successive API calls.\n",
    "* Include a print log of each city as it'sbeing processed (with the city number and city name).\n"
   ]
  },
  {
   "cell_type": "code",
   "execution_count": 4,
   "metadata": {},
   "outputs": [
    {
     "name": "stdout",
     "output_type": "stream",
     "text": [
      "City not found Skipping...\n",
      "Processing Record 1 of set 1 | albany\n",
      "Processing Record 2 of set 1 | mataura\n",
      "Processing Record 3 of set 1 | jamestown\n",
      "Processing Record 4 of set 1 | jumla\n",
      "Processing Record 5 of set 1 | camacha\n",
      "Processing Record 6 of set 1 | saint-joseph\n",
      "Processing Record 7 of set 1 | lagos\n",
      "Processing Record 8 of set 1 | linxia\n",
      "City not found Skipping...\n",
      "Processing Record 9 of set 1 | saint george\n",
      "Processing Record 10 of set 1 | chumikan\n",
      "Processing Record 11 of set 1 | punta arenas\n",
      "Processing Record 12 of set 1 | cascais\n",
      "Processing Record 13 of set 1 | ushuaia\n",
      "Processing Record 14 of set 1 | sungaipenuh\n",
      "Processing Record 15 of set 1 | cortes\n",
      "Processing Record 16 of set 1 | atuona\n",
      "Processing Record 17 of set 1 | cabo san lucas\n",
      "Processing Record 18 of set 1 | puerto ayora\n",
      "Processing Record 19 of set 1 | bourail\n",
      "Processing Record 20 of set 1 | shakawe\n",
      "Processing Record 21 of set 1 | hilo\n",
      "Processing Record 22 of set 1 | lasa\n",
      "Processing Record 23 of set 1 | saint-philippe\n",
      "Processing Record 24 of set 1 | syracuse\n",
      "Processing Record 25 of set 1 | santa fe\n",
      "Processing Record 26 of set 1 | bluff\n",
      "Processing Record 27 of set 1 | upernavik\n",
      "Processing Record 28 of set 1 | luanda\n",
      "Processing Record 29 of set 1 | pangody\n",
      "Processing Record 30 of set 1 | sakakah\n",
      "City not found Skipping...\n",
      "Processing Record 31 of set 1 | westport\n",
      "Processing Record 32 of set 1 | malartic\n",
      "City not found Skipping...\n",
      "Processing Record 33 of set 1 | la paz\n",
      "Processing Record 34 of set 1 | krusevac\n",
      "Processing Record 35 of set 1 | ivdel\n",
      "Processing Record 36 of set 1 | vestmanna\n",
      "Processing Record 37 of set 1 | benjamin aceval\n",
      "Processing Record 38 of set 1 | longyearbyen\n",
      "Processing Record 39 of set 1 | yenagoa\n",
      "Processing Record 40 of set 1 | rincon\n",
      "Processing Record 41 of set 1 | faanui\n",
      "Processing Record 42 of set 1 | jabinyanah\n",
      "Processing Record 43 of set 1 | willmar\n",
      "Processing Record 44 of set 1 | kirkwall\n",
      "Processing Record 45 of set 1 | victoria\n",
      "Processing Record 46 of set 1 | busselton\n",
      "Processing Record 47 of set 1 | port lincoln\n",
      "Processing Record 48 of set 1 | luderitz\n",
      "Processing Record 49 of set 1 | carnarvon\n",
      "City not found Skipping...\n",
      "Processing Record 50 of set 1 | torbay\n",
      "Processing Record 51 of set 1 | pangnirtung\n",
      "Processing Record 52 of set 1 | tuktoyaktuk\n",
      "Processing Record 53 of set 1 | varzea alegre\n",
      "Processing Record 54 of set 1 | arraial do cabo\n",
      "Processing Record 55 of set 1 | hobart\n",
      "Processing Record 56 of set 1 | ponta do sol\n",
      "Processing Record 57 of set 1 | rikitea\n",
      "Processing Record 58 of set 1 | domoni\n",
      "Processing Record 59 of set 1 | mackay\n",
      "Processing Record 60 of set 1 | yellowknife\n",
      "Processing Record 61 of set 1 | pevek\n",
      "Processing Record 62 of set 1 | lagoa\n",
      "Processing Record 63 of set 1 | avarua\n",
      "City not found Skipping...\n",
      "Processing Record 64 of set 1 | qaanaaq\n",
      "Processing Record 65 of set 1 | nikolskoye\n",
      "Processing Record 66 of set 1 | butaritari\n",
      "Processing Record 67 of set 1 | cherskiy\n",
      "Processing Record 68 of set 1 | clyde river\n",
      "Processing Record 69 of set 1 | kirakira\n",
      "Processing Record 70 of set 1 | ughelli\n",
      "Processing Record 71 of set 1 | leningradskiy\n",
      "Processing Record 72 of set 1 | dhamtari\n",
      "Processing Record 73 of set 1 | yulara\n",
      "Processing Record 74 of set 1 | port alfred\n",
      "Processing Record 75 of set 1 | vila velha\n",
      "Processing Record 76 of set 1 | mar del plata\n",
      "Processing Record 77 of set 1 | quatre cocos\n",
      "Processing Record 78 of set 1 | cozumel\n",
      "City not found Skipping...\n",
      "Processing Record 79 of set 1 | araouane\n",
      "Processing Record 80 of set 1 | wawa\n",
      "Processing Record 81 of set 1 | yuxia\n",
      "Processing Record 82 of set 1 | ahipara\n",
      "Processing Record 83 of set 1 | krasnoselkup\n",
      "Processing Record 84 of set 1 | barrow\n",
      "Processing Record 85 of set 1 | new norfolk\n",
      "Processing Record 86 of set 1 | pisco\n",
      "Processing Record 87 of set 1 | riacho de santana\n",
      "Processing Record 88 of set 1 | castro\n",
      "Processing Record 89 of set 1 | provideniya\n",
      "Processing Record 90 of set 1 | sobolevo\n",
      "Processing Record 91 of set 1 | georgetown\n",
      "Processing Record 92 of set 1 | esperance\n",
      "Processing Record 93 of set 1 | san quintin\n",
      "Processing Record 94 of set 1 | malakal\n",
      "Processing Record 95 of set 1 | mahebourg\n",
      "Processing Record 96 of set 1 | zeya\n",
      "Processing Record 97 of set 1 | bilma\n",
      "Processing Record 98 of set 1 | sitka\n",
      "Processing Record 99 of set 1 | vaini\n",
      "Processing Record 100 of set 1 | bathsheba\n",
      "Processing Record 101 of set 1 | adre\n",
      "Processing Record 102 of set 1 | gwanda\n",
      "Processing Record 103 of set 1 | cape town\n",
      "Processing Record 104 of set 1 | tamandare\n",
      "Processing Record 105 of set 1 | kapaa\n",
      "Processing Record 106 of set 1 | kurchum\n",
      "Processing Record 107 of set 1 | hermanus\n",
      "Processing Record 108 of set 1 | wanning\n",
      "Processing Record 109 of set 1 | palmares do sul\n",
      "Processing Record 110 of set 1 | port said\n",
      "Processing Record 111 of set 1 | petropavlovsk-kamchatskiy\n",
      "Processing Record 112 of set 1 | sao filipe\n",
      "Processing Record 113 of set 1 | bredasdorp\n",
      "City not found Skipping...\n",
      "Processing Record 114 of set 1 | touros\n",
      "Processing Record 115 of set 1 | cap malheureux\n",
      "Processing Record 116 of set 1 | viedma\n",
      "Processing Record 117 of set 1 | roald\n",
      "City not found Skipping...\n",
      "Processing Record 118 of set 1 | kaitangata\n",
      "Processing Record 119 of set 1 | eureka\n",
      "Processing Record 120 of set 1 | summerland\n",
      "Processing Record 121 of set 1 | yining\n",
      "Processing Record 122 of set 1 | east london\n",
      "Processing Record 123 of set 1 | wasilla\n",
      "Processing Record 124 of set 1 | ouango\n",
      "Processing Record 125 of set 1 | kuito\n",
      "Processing Record 126 of set 1 | terra santa\n",
      "Processing Record 127 of set 1 | ostrovnoy\n",
      "Processing Record 128 of set 1 | shaowu\n",
      "Processing Record 129 of set 1 | comodoro rivadavia\n",
      "Processing Record 130 of set 1 | dryden\n",
      "Processing Record 131 of set 1 | iqaluit\n",
      "Processing Record 132 of set 1 | salinopolis\n",
      "Processing Record 133 of set 1 | hambantota\n",
      "Processing Record 134 of set 1 | kapit\n",
      "Processing Record 135 of set 1 | praia\n",
      "Processing Record 136 of set 1 | port augusta\n",
      "Processing Record 137 of set 1 | khani\n",
      "Processing Record 138 of set 1 | loubomo\n",
      "City not found Skipping...\n",
      "City not found Skipping...\n",
      "Processing Record 139 of set 1 | aleppo\n",
      "Processing Record 140 of set 1 | diamantino\n",
      "Processing Record 141 of set 1 | sinnamary\n",
      "Processing Record 142 of set 1 | yambio\n",
      "Processing Record 143 of set 1 | ust-tsilma\n",
      "Processing Record 144 of set 1 | geraldton\n",
      "Processing Record 145 of set 1 | tabou\n",
      "Processing Record 146 of set 1 | severo-kurilsk\n",
      "Processing Record 147 of set 1 | bandarbeyla\n",
      "Processing Record 148 of set 1 | jalu\n",
      "Processing Record 149 of set 1 | winslow\n",
      "Processing Record 150 of set 1 | bambous virieux\n",
      "Processing Record 151 of set 1 | bethel\n",
      "Processing Record 152 of set 1 | palembang\n",
      "City not found Skipping...\n",
      "Processing Record 153 of set 1 | kilcullen\n",
      "Processing Record 154 of set 1 | tromso\n",
      "City not found Skipping...\n",
      "Processing Record 155 of set 1 | miri\n",
      "Processing Record 156 of set 1 | mmathubudukwane\n",
      "Processing Record 157 of set 1 | matay\n",
      "Processing Record 158 of set 1 | poronaysk\n",
      "City not found Skipping...\n",
      "Processing Record 159 of set 1 | hamilton\n",
      "Processing Record 160 of set 1 | half moon bay\n",
      "Processing Record 161 of set 1 | dikson\n",
      "Processing Record 162 of set 1 | ust-kut\n",
      "Processing Record 163 of set 1 | san francisco\n",
      "Processing Record 164 of set 1 | henties bay\n",
      "Processing Record 165 of set 1 | taoudenni\n",
      "Processing Record 166 of set 1 | namibe\n",
      "Processing Record 167 of set 1 | zaysan\n",
      "Processing Record 168 of set 1 | nanortalik\n",
      "City not found Skipping...\n",
      "Processing Record 169 of set 1 | rocha\n",
      "Processing Record 170 of set 1 | dudinka\n",
      "Processing Record 171 of set 1 | pangkalanbuun\n",
      "Processing Record 172 of set 1 | sept-iles\n",
      "Processing Record 173 of set 1 | kahului\n",
      "Processing Record 174 of set 1 | cap-aux-meules\n",
      "Processing Record 175 of set 1 | muriti\n",
      "Processing Record 176 of set 1 | san policarpo\n",
      "Processing Record 177 of set 1 | omaruru\n",
      "Processing Record 178 of set 1 | tasiilaq\n",
      "Processing Record 179 of set 1 | maracas\n",
      "Processing Record 180 of set 1 | sheregesh\n",
      "Processing Record 181 of set 1 | ribeira grande\n",
      "Processing Record 182 of set 1 | kruisfontein\n",
      "City not found Skipping...\n",
      "Processing Record 183 of set 1 | nelson bay\n",
      "Processing Record 184 of set 1 | port elizabeth\n",
      "Processing Record 185 of set 1 | mehamn\n"
     ]
    },
    {
     "name": "stdout",
     "output_type": "stream",
     "text": [
      "Processing Record 186 of set 1 | fortuna\n",
      "City not found Skipping...\n",
      "Processing Record 187 of set 1 | chokurdakh\n",
      "Processing Record 188 of set 1 | ulladulla\n",
      "Processing Record 189 of set 1 | severodvinsk\n",
      "Processing Record 190 of set 1 | mocuba\n",
      "Processing Record 191 of set 1 | hithadhoo\n",
      "Processing Record 192 of set 1 | zhicheng\n",
      "Processing Record 193 of set 1 | shetpe\n",
      "Processing Record 194 of set 1 | akureyri\n",
      "Processing Record 195 of set 1 | melfi\n",
      "Processing Record 196 of set 1 | coihaique\n",
      "Processing Record 197 of set 1 | hasaki\n",
      "Processing Record 198 of set 1 | khatanga\n",
      "Processing Record 199 of set 1 | ilulissat\n",
      "Processing Record 200 of set 1 | leninskoye\n",
      "Processing Record 201 of set 1 | mayo\n",
      "Processing Record 202 of set 1 | saskylakh\n",
      "Processing Record 203 of set 1 | skoropuskovskiy\n",
      "City not found Skipping...\n",
      "Processing Record 204 of set 1 | te anau\n",
      "Processing Record 205 of set 1 | constitucion\n",
      "Processing Record 206 of set 1 | turukhansk\n",
      "Processing Record 207 of set 1 | mungwi\n",
      "Processing Record 208 of set 1 | college\n",
      "Processing Record 209 of set 1 | manama\n",
      "Processing Record 210 of set 1 | saldanha\n",
      "Processing Record 211 of set 1 | zeerust\n",
      "Processing Record 212 of set 1 | mago\n",
      "Processing Record 213 of set 1 | cape canaveral\n",
      "Processing Record 214 of set 1 | anadyr\n",
      "Processing Record 215 of set 1 | zhanakorgan\n",
      "Processing Record 216 of set 1 | palmer\n",
      "Processing Record 217 of set 1 | deputatskiy\n",
      "Processing Record 218 of set 1 | port moresby\n",
      "Processing Record 219 of set 1 | hay river\n",
      "Processing Record 220 of set 1 | haines junction\n",
      "Processing Record 221 of set 1 | banda aceh\n",
      "Processing Record 222 of set 1 | kodiak\n",
      "Processing Record 223 of set 1 | dingle\n",
      "City not found Skipping...\n",
      "Processing Record 224 of set 1 | vestmannaeyjar\n",
      "Processing Record 225 of set 1 | lompoc\n",
      "Processing Record 226 of set 1 | antofagasta\n",
      "Processing Record 227 of set 1 | avera\n",
      "Processing Record 228 of set 1 | klaksvik\n",
      "Processing Record 229 of set 1 | corpus christi\n",
      "Processing Record 230 of set 1 | biak\n",
      "City not found Skipping...\n",
      "Processing Record 231 of set 1 | mokobeng\n",
      "Processing Record 232 of set 1 | vardo\n",
      "Processing Record 233 of set 1 | ilhabela\n",
      "Processing Record 234 of set 1 | vao\n",
      "Processing Record 235 of set 1 | colares\n",
      "Processing Record 236 of set 1 | kutum\n",
      "Processing Record 237 of set 1 | asosa\n",
      "City not found Skipping...\n",
      "City not found Skipping...\n",
      "Processing Record 238 of set 1 | maues\n",
      "Processing Record 239 of set 1 | kibala\n",
      "Processing Record 240 of set 1 | zaliznychne\n",
      "Processing Record 241 of set 1 | tenosique\n",
      "Processing Record 242 of set 1 | kurilsk\n",
      "Processing Record 243 of set 1 | rio grande\n",
      "Processing Record 244 of set 1 | zhigansk\n",
      "Processing Record 245 of set 1 | tuatapere\n",
      "Processing Record 246 of set 1 | qinzhou\n",
      "Processing Record 247 of set 1 | auki\n",
      "Processing Record 248 of set 1 | kota kinabalu\n",
      "Processing Record 249 of set 1 | port hardy\n",
      "Processing Record 250 of set 1 | kalaleh\n",
      "Processing Record 251 of set 1 | lebu\n",
      "Processing Record 252 of set 1 | asyut\n",
      "Processing Record 253 of set 1 | chuy\n",
      "Processing Record 254 of set 1 | puerto escondido\n",
      "Processing Record 255 of set 1 | ciudad real\n",
      "City not found Skipping...\n",
      "Processing Record 256 of set 1 | springbok\n",
      "Processing Record 257 of set 1 | cockburn town\n",
      "City not found Skipping...\n",
      "City not found Skipping...\n",
      "City not found Skipping...\n",
      "Processing Record 258 of set 1 | riyadh\n",
      "Processing Record 259 of set 1 | gorontalo\n",
      "Processing Record 260 of set 1 | rawson\n",
      "Processing Record 261 of set 1 | coalinga\n",
      "Processing Record 262 of set 1 | santa cruz\n",
      "Processing Record 263 of set 1 | lamar\n",
      "City not found Skipping...\n",
      "Processing Record 264 of set 1 | maniitsoq\n",
      "Processing Record 265 of set 1 | emerald\n",
      "Processing Record 266 of set 1 | javanrud\n",
      "Processing Record 267 of set 1 | cimislia\n",
      "Processing Record 268 of set 1 | ajdabiya\n",
      "Processing Record 269 of set 1 | cardonal\n",
      "Processing Record 270 of set 1 | ola\n",
      "Processing Record 271 of set 1 | naze\n",
      "Processing Record 272 of set 1 | inta\n",
      "Processing Record 273 of set 1 | el dovio\n",
      "Processing Record 274 of set 1 | la libertad\n",
      "Processing Record 275 of set 1 | narva-joesuu\n",
      "Processing Record 276 of set 1 | van\n",
      "Processing Record 277 of set 1 | wahiawa\n",
      "Processing Record 278 of set 1 | abnub\n",
      "Processing Record 279 of set 1 | tiksi\n",
      "Processing Record 280 of set 1 | prieska\n",
      "Processing Record 281 of set 1 | portland\n",
      "Processing Record 282 of set 1 | santa vitoria do palmar\n",
      "Processing Record 283 of set 1 | loa janan\n",
      "Processing Record 284 of set 1 | zhaotong\n",
      "Processing Record 285 of set 1 | lashma\n",
      "Processing Record 286 of set 1 | kielce\n",
      "Processing Record 287 of set 1 | fukue\n",
      "Processing Record 288 of set 1 | gizo\n",
      "Processing Record 289 of set 1 | norman wells\n",
      "Processing Record 290 of set 1 | general roca\n",
      "Processing Record 291 of set 1 | alofi\n",
      "Processing Record 292 of set 1 | malanje\n",
      "Processing Record 293 of set 1 | san jeronimo\n",
      "Processing Record 294 of set 1 | bengkulu\n",
      "Processing Record 295 of set 1 | correntina\n",
      "Processing Record 296 of set 1 | kantang\n",
      "Processing Record 297 of set 1 | nueva florida\n",
      "Processing Record 298 of set 1 | preston\n",
      "Processing Record 299 of set 1 | sunbury\n",
      "Processing Record 300 of set 1 | saurimo\n",
      "Processing Record 301 of set 1 | namatanai\n",
      "Processing Record 302 of set 1 | saint anthony\n",
      "Processing Record 303 of set 1 | moose factory\n",
      "Processing Record 304 of set 1 | angarsk\n",
      "Processing Record 305 of set 1 | yumen\n",
      "Processing Record 306 of set 1 | vila franca do campo\n",
      "Processing Record 307 of set 1 | grants\n",
      "Processing Record 308 of set 1 | gushikawa\n",
      "Processing Record 309 of set 1 | obihiro\n",
      "Processing Record 310 of set 1 | pareora\n",
      "Processing Record 311 of set 1 | porto novo\n",
      "City not found Skipping...\n",
      "Processing Record 312 of set 1 | naryan-mar\n",
      "Processing Record 313 of set 1 | madimba\n",
      "Processing Record 314 of set 1 | thompson\n",
      "Processing Record 315 of set 1 | port blair\n",
      "Processing Record 316 of set 1 | haftoni\n",
      "Processing Record 317 of set 1 | morris\n",
      "Processing Record 318 of set 1 | gushi\n",
      "Processing Record 319 of set 1 | san patricio\n",
      "Processing Record 320 of set 1 | kirkenaer\n",
      "Processing Record 321 of set 1 | lisala\n",
      "Processing Record 322 of set 1 | beringovskiy\n",
      "Processing Record 323 of set 1 | waitati\n",
      "Processing Record 324 of set 1 | moses lake\n",
      "Processing Record 325 of set 1 | narsaq\n",
      "Processing Record 326 of set 1 | mankera\n",
      "Processing Record 327 of set 1 | akdepe\n",
      "Processing Record 328 of set 1 | aswan\n",
      "Processing Record 329 of set 1 | ikskile\n",
      "Processing Record 330 of set 1 | marzuq\n",
      "Processing Record 331 of set 1 | ouesso\n",
      "Processing Record 332 of set 1 | phan thiet\n",
      "Processing Record 333 of set 1 | shiyan\n",
      "Processing Record 334 of set 1 | burnie\n",
      "Processing Record 335 of set 1 | richards bay\n",
      "Processing Record 336 of set 1 | hun\n",
      "Processing Record 337 of set 1 | camara de lobos\n",
      "Processing Record 338 of set 1 | tilichiki\n",
      "Processing Record 339 of set 1 | pochutla\n",
      "Processing Record 340 of set 1 | daru\n",
      "Processing Record 341 of set 1 | la ronge\n",
      "Processing Record 342 of set 1 | inongo\n",
      "Processing Record 343 of set 1 | cam ranh\n",
      "Processing Record 344 of set 1 | ubinskoye\n",
      "Processing Record 345 of set 1 | aklavik\n",
      "Processing Record 346 of set 1 | bismarck\n",
      "Processing Record 347 of set 1 | dustlik\n",
      "City not found Skipping...\n",
      "City not found Skipping...\n",
      "Processing Record 348 of set 1 | komsomolskiy\n",
      "Processing Record 349 of set 1 | salalah\n",
      "Processing Record 350 of set 1 | atar\n",
      "Processing Record 351 of set 1 | mattru\n",
      "Processing Record 352 of set 1 | moberly\n",
      "Processing Record 353 of set 1 | belousovka\n",
      "Processing Record 354 of set 1 | husavik\n",
      "Processing Record 355 of set 1 | anito\n",
      "Processing Record 356 of set 1 | flin flon\n",
      "Processing Record 357 of set 1 | ranot\n",
      "Processing Record 358 of set 1 | dunedin\n",
      "Processing Record 359 of set 1 | kashi\n",
      "Processing Record 360 of set 1 | puerto palomas\n",
      "Processing Record 361 of set 1 | port hedland\n",
      "Processing Record 362 of set 1 | qaqortoq\n",
      "Processing Record 363 of set 1 | farsund\n",
      "Processing Record 364 of set 1 | hofn\n",
      "Processing Record 365 of set 1 | fairbanks\n",
      "Processing Record 366 of set 1 | lahaina\n",
      "Processing Record 367 of set 1 | najran\n",
      "Processing Record 368 of set 1 | raudeberg\n",
      "Processing Record 369 of set 1 | tautira\n",
      "Processing Record 370 of set 1 | pinawa\n",
      "Processing Record 371 of set 1 | khorramshahr\n"
     ]
    },
    {
     "name": "stdout",
     "output_type": "stream",
     "text": [
      "Processing Record 372 of set 1 | kushmurun\n",
      "Processing Record 373 of set 1 | nikolayevka\n",
      "Processing Record 374 of set 1 | nha trang\n",
      "Processing Record 375 of set 1 | svetlogorsk\n",
      "Processing Record 376 of set 1 | port keats\n",
      "Processing Record 377 of set 1 | katsuura\n",
      "Processing Record 378 of set 1 | tonantins\n",
      "Processing Record 379 of set 1 | hovd\n",
      "Processing Record 380 of set 1 | shimoda\n",
      "Processing Record 381 of set 1 | makokou\n",
      "Processing Record 382 of set 1 | jibuti\n",
      "City not found Skipping...\n",
      "Processing Record 383 of set 1 | acapulco\n",
      "Processing Record 384 of set 1 | ampanihy\n",
      "Processing Record 385 of set 1 | piopio\n",
      "Processing Record 386 of set 1 | sosnovskoye\n",
      "Processing Record 387 of set 1 | tsaratanana\n",
      "Processing Record 388 of set 1 | ouargaye\n",
      "Processing Record 389 of set 1 | kropotkin\n",
      "Processing Record 390 of set 1 | zhoucheng\n",
      "Processing Record 391 of set 1 | umm kaddadah\n",
      "Processing Record 392 of set 1 | laguna\n",
      "Processing Record 393 of set 1 | whitehorse\n",
      "Processing Record 394 of set 1 | wanaka\n",
      "Processing Record 395 of set 1 | pacific grove\n",
      "Processing Record 396 of set 1 | raghunathpur\n",
      "Processing Record 397 of set 1 | bima\n",
      "Processing Record 398 of set 1 | sudbury\n",
      "Processing Record 399 of set 1 | iznoski\n",
      "City not found Skipping...\n",
      "Processing Record 400 of set 1 | san andres\n",
      "Processing Record 401 of set 1 | preobrazheniye\n",
      "Processing Record 402 of set 1 | santa cruz de la palma\n",
      "Processing Record 403 of set 1 | pandamatenga\n",
      "Processing Record 404 of set 1 | omsukchan\n",
      "Processing Record 405 of set 1 | mersing\n",
      "City not found Skipping...\n",
      "Processing Record 406 of set 1 | ancud\n",
      "Processing Record 407 of set 1 | evensk\n",
      "City not found Skipping...\n",
      "Processing Record 408 of set 1 | nizhniy odes\n",
      "Processing Record 409 of set 1 | grand gaube\n",
      "Processing Record 410 of set 1 | garowe\n",
      "Processing Record 411 of set 1 | dire\n",
      "Processing Record 412 of set 1 | kuytun\n",
      "Processing Record 413 of set 1 | alihe\n",
      "Processing Record 414 of set 1 | rey bouba\n",
      "Processing Record 415 of set 1 | lipin bor\n",
      "Processing Record 416 of set 1 | atherton\n",
      "Processing Record 417 of set 1 | airai\n",
      "Processing Record 418 of set 1 | douglas\n",
      "City not found Skipping...\n",
      "Processing Record 419 of set 1 | mount isa\n",
      "Processing Record 420 of set 1 | uray\n",
      "Processing Record 421 of set 1 | shush\n",
      "Processing Record 422 of set 1 | tigil\n",
      "Processing Record 423 of set 1 | vredendal\n",
      "Processing Record 424 of set 1 | tabas\n",
      "Processing Record 425 of set 1 | moerai\n",
      "Processing Record 426 of set 1 | sola\n",
      "Processing Record 427 of set 1 | san isidro\n",
      "Processing Record 428 of set 1 | oberstdorf\n",
      "Processing Record 429 of set 1 | katherine\n",
      "Processing Record 430 of set 1 | oskarshamn\n",
      "City not found Skipping...\n",
      "Processing Record 431 of set 1 | le port\n",
      "Processing Record 432 of set 1 | hualmay\n",
      "Processing Record 433 of set 1 | chunoyar\n",
      "City not found Skipping...\n",
      "Processing Record 434 of set 1 | la palma\n",
      "Processing Record 435 of set 1 | san vicente\n",
      "Processing Record 436 of set 1 | vallenar\n",
      "Processing Record 437 of set 1 | puerto baquerizo moreno\n",
      "Processing Record 438 of set 1 | aketi\n",
      "Processing Record 439 of set 1 | pinheiro machado\n",
      "Processing Record 440 of set 1 | nipawin\n",
      "Processing Record 441 of set 1 | gigmoto\n",
      "Processing Record 442 of set 1 | parabel\n",
      "Processing Record 443 of set 1 | voskresenskoye\n",
      "Processing Record 444 of set 1 | kemin\n",
      "City not found Skipping...\n",
      "Processing Record 445 of set 1 | cidreira\n",
      "Processing Record 446 of set 1 | sulangan\n",
      "Processing Record 447 of set 1 | paragominas\n",
      "Processing Record 448 of set 1 | pierre\n",
      "Processing Record 449 of set 1 | sosnovo-ozerskoye\n",
      "City not found Skipping...\n",
      "Processing Record 450 of set 1 | san joaquin\n",
      "Processing Record 451 of set 1 | sechura\n",
      "Processing Record 452 of set 1 | itoman\n",
      "Processing Record 453 of set 1 | oranjemund\n",
      "Processing Record 454 of set 1 | nemuro\n",
      "Processing Record 455 of set 1 | lorengau\n",
      "City not found Skipping...\n",
      "Processing Record 456 of set 1 | prince rupert\n",
      "Processing Record 457 of set 1 | shitanjing\n",
      "Processing Record 458 of set 1 | sao joao da barra\n",
      "Processing Record 459 of set 1 | troy\n",
      "Processing Record 460 of set 1 | pandan\n",
      "Processing Record 461 of set 1 | calamar\n",
      "Processing Record 462 of set 1 | san cristobal\n",
      "Processing Record 463 of set 1 | skelleftea\n",
      "Processing Record 464 of set 1 | dong hoi\n",
      "Processing Record 465 of set 1 | dicabisagan\n",
      "Processing Record 466 of set 1 | mugur-aksy\n",
      "Processing Record 467 of set 1 | yendi\n",
      "Processing Record 468 of set 1 | fare\n",
      "Processing Record 469 of set 1 | ketchikan\n",
      "City not found Skipping...\n",
      "Processing Record 470 of set 1 | muravlenko\n",
      "Processing Record 471 of set 1 | buala\n",
      "Processing Record 472 of set 1 | gondar\n",
      "Processing Record 473 of set 1 | ambovombe\n",
      "Processing Record 474 of set 1 | ambala\n",
      "Processing Record 475 of set 1 | berlevag\n",
      "Processing Record 476 of set 1 | kaeo\n",
      "Processing Record 477 of set 1 | olafsvik\n",
      "Processing Record 478 of set 1 | southbridge\n",
      "Processing Record 479 of set 1 | tiznit\n",
      "Processing Record 480 of set 1 | japura\n",
      "Processing Record 481 of set 1 | guerrero negro\n",
      "City not found Skipping...\n",
      "Processing Record 482 of set 1 | waipawa\n",
      "City not found Skipping...\n",
      "Processing Record 483 of set 1 | kuzovatovo\n",
      "Processing Record 484 of set 1 | deer lake\n",
      "Processing Record 485 of set 1 | adana\n",
      "Processing Record 486 of set 1 | codrington\n",
      "Processing Record 487 of set 1 | waterboro\n",
      "Processing Record 488 of set 1 | wenling\n",
      "Processing Record 489 of set 1 | lichinga\n",
      "Processing Record 490 of set 1 | hargeysa\n",
      "Processing Record 491 of set 1 | cayenne\n",
      "Processing Record 492 of set 1 | nishihara\n",
      "City not found Skipping...\n",
      "Processing Record 493 of set 1 | ambunti\n",
      "Processing Record 494 of set 1 | bubaque\n",
      "Processing Record 495 of set 1 | okha\n",
      "City not found Skipping...\n",
      "Processing Record 496 of set 1 | alice springs\n",
      "Processing Record 497 of set 1 | karratha\n",
      "Processing Record 498 of set 1 | payo\n",
      "Processing Record 499 of set 1 | lazurne\n",
      "Processing Record 500 of set 1 | tinskoy\n",
      "Processing Record 501 of set 1 | belmonte\n",
      "City not found Skipping...\n",
      "Processing Record 502 of set 1 | fort nelson\n",
      "Processing Record 503 of set 1 | le passage\n",
      "Processing Record 504 of set 1 | solwezi\n",
      "Processing Record 505 of set 1 | albion\n",
      "Processing Record 506 of set 1 | elat\n",
      "Processing Record 507 of set 1 | puerto del rosario\n",
      "Processing Record 508 of set 1 | nuuk\n",
      "Processing Record 509 of set 1 | quebo\n",
      "Processing Record 510 of set 1 | ordzhonikidze\n",
      "Processing Record 511 of set 1 | corbelia\n",
      "Processing Record 512 of set 1 | sayyan\n",
      "Processing Record 513 of set 1 | ilebo\n",
      "Processing Record 514 of set 1 | san pablo\n",
      "City not found Skipping...\n",
      "Processing Record 515 of set 1 | dali\n",
      "Processing Record 516 of set 1 | tahta\n",
      "Processing Record 517 of set 1 | huilong\n",
      "Processing Record 518 of set 1 | kavieng\n",
      "Processing Record 519 of set 1 | rio gallegos\n",
      "Processing Record 520 of set 1 | olean\n",
      "Processing Record 521 of set 1 | olga\n",
      "Processing Record 522 of set 1 | knysna\n",
      "Processing Record 523 of set 1 | trenggalek\n",
      "Processing Record 524 of set 1 | los altos\n",
      "Processing Record 525 of set 1 | seoul\n",
      "Processing Record 526 of set 1 | togur\n",
      "Processing Record 527 of set 1 | kihei\n",
      "Processing Record 528 of set 1 | solnechnyy\n",
      "Processing Record 529 of set 1 | huarmey\n",
      "Processing Record 530 of set 1 | bella union\n",
      "Processing Record 531 of set 1 | iacu\n",
      "Processing Record 532 of set 1 | maputo\n",
      "Processing Record 533 of set 1 | sao jose da coroa grande\n",
      "Processing Record 534 of set 1 | mbini\n",
      "Processing Record 535 of set 1 | kierspe\n",
      "Processing Record 536 of set 1 | yelizavetinskaya\n",
      "Processing Record 537 of set 1 | karatuzskoye\n",
      "Processing Record 538 of set 1 | pedernales\n",
      "Processing Record 539 of set 1 | mabaruma\n",
      "Processing Record 540 of set 1 | maragogi\n",
      "Processing Record 541 of set 1 | humboldt\n",
      "Processing Record 542 of set 1 | merauke\n",
      "Processing Record 543 of set 1 | zhanaozen\n",
      "Processing Record 544 of set 1 | junin\n",
      "Processing Record 545 of set 1 | berbera\n",
      "Processing Record 546 of set 1 | alberton\n",
      "Processing Record 547 of set 1 | ust-karsk\n",
      "Processing Record 548 of set 1 | santa ana\n",
      "Processing Record 549 of set 1 | marsa matruh\n",
      "City not found Skipping...\n",
      "Processing Record 550 of set 1 | ixtapa\n",
      "Processing Record 551 of set 1 | thio\n",
      "Processing Record 552 of set 1 | udachnyy\n",
      "Processing Record 553 of set 1 | mangalia\n",
      "Processing Record 554 of set 1 | mandalgovi\n"
     ]
    },
    {
     "name": "stdout",
     "output_type": "stream",
     "text": [
      "Processing Record 555 of set 1 | verkhovazhye\n",
      "Processing Record 556 of set 1 | havoysund\n",
      "Processing Record 557 of set 1 | chiang khong\n",
      "Processing Record 558 of set 1 | susanville\n",
      "Processing Record 559 of set 1 | verkhnevilyuysk\n",
      "Processing Record 560 of set 1 | celestun\n",
      "Processing Record 561 of set 1 | kars\n",
      "Processing Record 562 of set 1 | cedar city\n",
      "---------------\n",
      "Data Retrieval Complete\n",
      "---------------\n"
     ]
    }
   ],
   "source": [
    "city_sec = []\n",
    "cloudiness = []        \n",
    "dates= []\n",
    "humidities = []\n",
    "lats = []\n",
    "lngs = []\n",
    "max_temps = []\n",
    "wind_speeds = []\n",
    "countries = []\n",
    "\n",
    "count_one = 0\n",
    "set_one = 1\n",
    "\n",
    "for city in cities:\n",
    "    try:\n",
    "        response = requests.get(query_url + city).json()\n",
    "        cloudiness.append(response['clouds']['all'])\n",
    "        countries.append(response['sys']['country'])\n",
    "        dates.append(response['dt'])\n",
    "        humidities.append(response['main']['humidity'])\n",
    "        lats.append(response['coord']['lat'])\n",
    "        lngs.append(response['coord']['lon'])\n",
    "        max_temps.append(response['main']['temp_max'])\n",
    "        wind_speeds.append(response['wind']['speed'])\n",
    "        if count > 48:\n",
    "            count_one = 1\n",
    "            set_one += 1\n",
    "            city_sec.append(city)\n",
    "        else:\n",
    "            count_one += 1\n",
    "            city_sec.append(city)\n",
    "        print(f\"Processing Record {count_one} of set {set_one} | {city}\")\n",
    "    except Exception:\n",
    "        print(\"City not found Skipping...\")\n",
    "print(\"---------------\")\n",
    "print(\"Data Retrieval Complete\")\n",
    "print(\"---------------\")"
   ]
  },
  {
   "cell_type": "markdown",
   "metadata": {},
   "source": [
    "### Convert Raw Data to DataFrame\n",
    "* Export the city data into a .csv.\n",
    "* Display the DataFrame"
   ]
  },
  {
   "cell_type": "code",
   "execution_count": 5,
   "metadata": {},
   "outputs": [
    {
     "data": {
      "text/plain": [
       "City          562\n",
       "Cloudiness    562\n",
       "Country       562\n",
       "Date          562\n",
       "Humidity      562\n",
       "Lat           562\n",
       "Lng           562\n",
       "Max Temp      562\n",
       "Wind Speed    562\n",
       "dtype: int64"
      ]
     },
     "execution_count": 5,
     "metadata": {},
     "output_type": "execute_result"
    }
   ],
   "source": [
    "weather_dict = {\n",
    "    \"City\":city_sec,\n",
    "    \"Cloudiness\":cloudiness,\n",
    "    \"Country\":countries,\n",
    "    \"Date\":dates,\n",
    "    \"Humidity\":humidities,\n",
    "    \"Lat\":lats,\n",
    "    \"Lng\":lngs,\n",
    "    \"Max Temp\":max_temps,\n",
    "    \"Wind Speed\":wind_speeds\n",
    "}\n",
    "weather_df = pd.DataFrame(weather_dict)\n",
    "weather_df.count()"
   ]
  },
  {
   "cell_type": "code",
   "execution_count": 6,
   "metadata": {},
   "outputs": [
    {
     "data": {
      "text/html": [
       "<div>\n",
       "<style scoped>\n",
       "    .dataframe tbody tr th:only-of-type {\n",
       "        vertical-align: middle;\n",
       "    }\n",
       "\n",
       "    .dataframe tbody tr th {\n",
       "        vertical-align: top;\n",
       "    }\n",
       "\n",
       "    .dataframe thead th {\n",
       "        text-align: right;\n",
       "    }\n",
       "</style>\n",
       "<table border=\"1\" class=\"dataframe\">\n",
       "  <thead>\n",
       "    <tr style=\"text-align: right;\">\n",
       "      <th></th>\n",
       "      <th>City</th>\n",
       "      <th>Cloudiness</th>\n",
       "      <th>Country</th>\n",
       "      <th>Date</th>\n",
       "      <th>Humidity</th>\n",
       "      <th>Lat</th>\n",
       "      <th>Lng</th>\n",
       "      <th>Max Temp</th>\n",
       "      <th>Wind Speed</th>\n",
       "    </tr>\n",
       "  </thead>\n",
       "  <tbody>\n",
       "    <tr>\n",
       "      <th>0</th>\n",
       "      <td>albany</td>\n",
       "      <td>75</td>\n",
       "      <td>US</td>\n",
       "      <td>1595453955</td>\n",
       "      <td>74</td>\n",
       "      <td>42.60</td>\n",
       "      <td>-73.97</td>\n",
       "      <td>82.00</td>\n",
       "      <td>6.93</td>\n",
       "    </tr>\n",
       "    <tr>\n",
       "      <th>1</th>\n",
       "      <td>mataura</td>\n",
       "      <td>95</td>\n",
       "      <td>NZ</td>\n",
       "      <td>1595454061</td>\n",
       "      <td>83</td>\n",
       "      <td>-46.19</td>\n",
       "      <td>168.86</td>\n",
       "      <td>39.00</td>\n",
       "      <td>3.00</td>\n",
       "    </tr>\n",
       "    <tr>\n",
       "      <th>2</th>\n",
       "      <td>jamestown</td>\n",
       "      <td>20</td>\n",
       "      <td>US</td>\n",
       "      <td>1595453957</td>\n",
       "      <td>73</td>\n",
       "      <td>42.10</td>\n",
       "      <td>-79.24</td>\n",
       "      <td>79.00</td>\n",
       "      <td>12.75</td>\n",
       "    </tr>\n",
       "    <tr>\n",
       "      <th>3</th>\n",
       "      <td>jumla</td>\n",
       "      <td>100</td>\n",
       "      <td>NP</td>\n",
       "      <td>1595454062</td>\n",
       "      <td>71</td>\n",
       "      <td>29.27</td>\n",
       "      <td>82.18</td>\n",
       "      <td>61.02</td>\n",
       "      <td>1.14</td>\n",
       "    </tr>\n",
       "    <tr>\n",
       "      <th>4</th>\n",
       "      <td>camacha</td>\n",
       "      <td>40</td>\n",
       "      <td>PT</td>\n",
       "      <td>1595453935</td>\n",
       "      <td>68</td>\n",
       "      <td>33.08</td>\n",
       "      <td>-16.33</td>\n",
       "      <td>69.80</td>\n",
       "      <td>12.75</td>\n",
       "    </tr>\n",
       "  </tbody>\n",
       "</table>\n",
       "</div>"
      ],
      "text/plain": [
       "        City  Cloudiness Country        Date  Humidity    Lat     Lng  \\\n",
       "0     albany          75      US  1595453955        74  42.60  -73.97   \n",
       "1    mataura          95      NZ  1595454061        83 -46.19  168.86   \n",
       "2  jamestown          20      US  1595453957        73  42.10  -79.24   \n",
       "3      jumla         100      NP  1595454062        71  29.27   82.18   \n",
       "4    camacha          40      PT  1595453935        68  33.08  -16.33   \n",
       "\n",
       "   Max Temp  Wind Speed  \n",
       "0     82.00        6.93  \n",
       "1     39.00        3.00  \n",
       "2     79.00       12.75  \n",
       "3     61.02        1.14  \n",
       "4     69.80       12.75  "
      ]
     },
     "execution_count": 6,
     "metadata": {},
     "output_type": "execute_result"
    }
   ],
   "source": [
    "weather_df.head()"
   ]
  },
  {
   "cell_type": "code",
   "execution_count": null,
   "metadata": {},
   "outputs": [],
   "source": []
  },
  {
   "cell_type": "markdown",
   "metadata": {},
   "source": [
    "## Inspect the data and remove the cities where the humidity > 100%.\n",
    "----\n",
    "Skip this step if there are no cities that have humidity > 100%. "
   ]
  },
  {
   "cell_type": "code",
   "execution_count": 7,
   "metadata": {},
   "outputs": [
    {
     "data": {
      "text/plain": [
       "100"
      ]
     },
     "execution_count": 7,
     "metadata": {},
     "output_type": "execute_result"
    }
   ],
   "source": [
    "weather_df[\"Humidity\"].max()"
   ]
  },
  {
   "cell_type": "code",
   "execution_count": 8,
   "metadata": {},
   "outputs": [
    {
     "data": {
      "text/html": [
       "<div>\n",
       "<style scoped>\n",
       "    .dataframe tbody tr th:only-of-type {\n",
       "        vertical-align: middle;\n",
       "    }\n",
       "\n",
       "    .dataframe tbody tr th {\n",
       "        vertical-align: top;\n",
       "    }\n",
       "\n",
       "    .dataframe thead th {\n",
       "        text-align: right;\n",
       "    }\n",
       "</style>\n",
       "<table border=\"1\" class=\"dataframe\">\n",
       "  <thead>\n",
       "    <tr style=\"text-align: right;\">\n",
       "      <th></th>\n",
       "      <th>Cloudiness</th>\n",
       "      <th>Country</th>\n",
       "      <th>Date</th>\n",
       "      <th>Humidity</th>\n",
       "      <th>Lat</th>\n",
       "      <th>Lng</th>\n",
       "      <th>Max Temp</th>\n",
       "      <th>Wind Speed</th>\n",
       "    </tr>\n",
       "    <tr>\n",
       "      <th>City</th>\n",
       "      <th></th>\n",
       "      <th></th>\n",
       "      <th></th>\n",
       "      <th></th>\n",
       "      <th></th>\n",
       "      <th></th>\n",
       "      <th></th>\n",
       "      <th></th>\n",
       "    </tr>\n",
       "  </thead>\n",
       "  <tbody>\n",
       "  </tbody>\n",
       "</table>\n",
       "</div>"
      ],
      "text/plain": [
       "Empty DataFrame\n",
       "Columns: [Cloudiness, Country, Date, Humidity, Lat, Lng, Max Temp, Wind Speed]\n",
       "Index: []"
      ]
     },
     "execution_count": 8,
     "metadata": {},
     "output_type": "execute_result"
    }
   ],
   "source": [
    "#  Get the indices of cities that have humidity over 100%.\n",
    "grouped_weather = weather_df.groupby(['City']).count()\n",
    "grouped_weather.loc[grouped_weather[\"Humidity\"] > 100]"
   ]
  },
  {
   "cell_type": "code",
   "execution_count": 9,
   "metadata": {},
   "outputs": [
    {
     "data": {
      "text/html": [
       "<div>\n",
       "<style scoped>\n",
       "    .dataframe tbody tr th:only-of-type {\n",
       "        vertical-align: middle;\n",
       "    }\n",
       "\n",
       "    .dataframe tbody tr th {\n",
       "        vertical-align: top;\n",
       "    }\n",
       "\n",
       "    .dataframe thead th {\n",
       "        text-align: right;\n",
       "    }\n",
       "</style>\n",
       "<table border=\"1\" class=\"dataframe\">\n",
       "  <thead>\n",
       "    <tr style=\"text-align: right;\">\n",
       "      <th></th>\n",
       "      <th>City</th>\n",
       "      <th>Cloudiness</th>\n",
       "      <th>Country</th>\n",
       "      <th>Date</th>\n",
       "      <th>Humidity</th>\n",
       "      <th>Lat</th>\n",
       "      <th>Lng</th>\n",
       "      <th>Max Temp</th>\n",
       "      <th>Wind Speed</th>\n",
       "    </tr>\n",
       "  </thead>\n",
       "  <tbody>\n",
       "    <tr>\n",
       "      <th>0</th>\n",
       "      <td>albany</td>\n",
       "      <td>75</td>\n",
       "      <td>US</td>\n",
       "      <td>1595453955</td>\n",
       "      <td>74</td>\n",
       "      <td>42.60</td>\n",
       "      <td>-73.97</td>\n",
       "      <td>82.00</td>\n",
       "      <td>6.93</td>\n",
       "    </tr>\n",
       "    <tr>\n",
       "      <th>1</th>\n",
       "      <td>mataura</td>\n",
       "      <td>95</td>\n",
       "      <td>NZ</td>\n",
       "      <td>1595454061</td>\n",
       "      <td>83</td>\n",
       "      <td>-46.19</td>\n",
       "      <td>168.86</td>\n",
       "      <td>39.00</td>\n",
       "      <td>3.00</td>\n",
       "    </tr>\n",
       "    <tr>\n",
       "      <th>2</th>\n",
       "      <td>jamestown</td>\n",
       "      <td>20</td>\n",
       "      <td>US</td>\n",
       "      <td>1595453957</td>\n",
       "      <td>73</td>\n",
       "      <td>42.10</td>\n",
       "      <td>-79.24</td>\n",
       "      <td>79.00</td>\n",
       "      <td>12.75</td>\n",
       "    </tr>\n",
       "    <tr>\n",
       "      <th>3</th>\n",
       "      <td>jumla</td>\n",
       "      <td>100</td>\n",
       "      <td>NP</td>\n",
       "      <td>1595454062</td>\n",
       "      <td>71</td>\n",
       "      <td>29.27</td>\n",
       "      <td>82.18</td>\n",
       "      <td>61.02</td>\n",
       "      <td>1.14</td>\n",
       "    </tr>\n",
       "    <tr>\n",
       "      <th>4</th>\n",
       "      <td>camacha</td>\n",
       "      <td>40</td>\n",
       "      <td>PT</td>\n",
       "      <td>1595453935</td>\n",
       "      <td>68</td>\n",
       "      <td>33.08</td>\n",
       "      <td>-16.33</td>\n",
       "      <td>69.80</td>\n",
       "      <td>12.75</td>\n",
       "    </tr>\n",
       "  </tbody>\n",
       "</table>\n",
       "</div>"
      ],
      "text/plain": [
       "        City  Cloudiness Country        Date  Humidity    Lat     Lng  \\\n",
       "0     albany          75      US  1595453955        74  42.60  -73.97   \n",
       "1    mataura          95      NZ  1595454061        83 -46.19  168.86   \n",
       "2  jamestown          20      US  1595453957        73  42.10  -79.24   \n",
       "3      jumla         100      NP  1595454062        71  29.27   82.18   \n",
       "4    camacha          40      PT  1595453935        68  33.08  -16.33   \n",
       "\n",
       "   Max Temp  Wind Speed  \n",
       "0     82.00        6.93  \n",
       "1     39.00        3.00  \n",
       "2     79.00       12.75  \n",
       "3     61.02        1.14  \n",
       "4     69.80       12.75  "
      ]
     },
     "execution_count": 9,
     "metadata": {},
     "output_type": "execute_result"
    }
   ],
   "source": [
    "# Make a new DataFrame equal to the city data to drop all humidity outliers by index.\n",
    "# Passing \"inplace=False\" will make a copy of the city_data DataFrame, which we call \"clean_city_data\".\n",
    "weather_df.head()"
   ]
  },
  {
   "cell_type": "code",
   "execution_count": 10,
   "metadata": {},
   "outputs": [],
   "source": [
    "# Extract relevant fields from the data frame\n",
    "\n",
    "\n",
    "# Export the City_Data into a csv\n",
    "weather_df.to_csv(output_data_file)"
   ]
  },
  {
   "cell_type": "markdown",
   "metadata": {},
   "source": [
    "## Plotting the Data\n",
    "* Use proper labeling of the plots using plot titles (including date of analysis) and axes labels.\n",
    "* Save the plotted figures as .pngs."
   ]
  },
  {
   "cell_type": "markdown",
   "metadata": {},
   "source": [
    "## Latitude vs. Temperature Plot"
   ]
  },
  {
   "cell_type": "code",
   "execution_count": 11,
   "metadata": {
    "scrolled": true
   },
   "outputs": [
    {
     "data": {
      "image/png": "[encoded data removed]",
      "text/plain": [
       "<Figure size 432x288 with 1 Axes>"
      ]
     },
     "metadata": {
      "needs_background": "light"
     },
     "output_type": "display_data"
    }
   ],
   "source": [
    "plt.scatter(weather_df[\"Lat\"],weather_df[\"Max Temp\"],edgecolors=\"black\",facecolors=\"skyblue\")\n",
    "plt.title(\"City Latitude vs. Max Temperature (07/16/20)\")\n",
    "plt.xlabel(\"Latitude\")\n",
    "plt.ylabel(\"Max Temperature (F)\")\n",
    "plt.grid (b=True,which=\"major\",axis=\"both\",linestyle=\"-\",color=\"lightgrey\")\n",
    "plt.savefig(\"Output/fig1.png\")\n",
    "plt.show()"
   ]
  },
  {
   "cell_type": "markdown",
   "metadata": {},
   "source": [
    "## Latitude vs. Humidity Plot"
   ]
  },
  {
   "cell_type": "code",
   "execution_count": 12,
   "metadata": {},
   "outputs": [
    {
     "data": {
      "image/png": "[encoded data removed]",
      "text/plain": [
       "<Figure size 432x288 with 1 Axes>"
      ]
     },
     "metadata": {
      "needs_background": "light"
     },
     "output_type": "display_data"
    }
   ],
   "source": [
    "plt.scatter(weather_df[\"Lat\"],weather_df[\"Humidity\"],edgecolors=\"black\",facecolors=\"skyblue\")\n",
    "plt.title(\"City Latitude vs. Humidity (07/16/20)\")\n",
    "plt.xlabel(\"Latitude\")\n",
    "plt.ylabel(\"Humidity (%) \")\n",
    "plt.grid (b=True,which=\"major\",axis=\"both\",linestyle=\"-\",color=\"lightgrey\")\n",
    "plt.savefig(\"Output/fig2.png\")\n",
    "plt.show()"
   ]
  },
  {
   "cell_type": "markdown",
   "metadata": {},
   "source": [
    "## Latitude vs. Cloudiness Plot"
   ]
  },
  {
   "cell_type": "code",
   "execution_count": 13,
   "metadata": {},
   "outputs": [
    {
     "data": {
      "image/png": "[encoded data removed]",
      "text/plain": [
       "<Figure size 432x288 with 1 Axes>"
      ]
     },
     "metadata": {
      "needs_background": "light"
     },
     "output_type": "display_data"
    }
   ],
   "source": [
    "plt.scatter(weather_df[\"Lat\"],weather_df[\"Cloudiness\"],edgecolors=\"black\",facecolors=\"skyblue\")\n",
    "plt.title(\"City Latitude vs. Cloudiness (07/16/20)\")\n",
    "plt.xlabel(\"Latitude\")\n",
    "plt.ylabel(\"Cloudiness (%) \")\n",
    "plt.grid (b=True,which=\"major\",axis=\"both\",linestyle=\"-\",color=\"lightgrey\")\n",
    "plt.savefig(\"Output/fig2.png\")\n",
    "plt.show()"
   ]
  },
  {
   "cell_type": "markdown",
   "metadata": {},
   "source": [
    "## Latitude vs. Wind Speed Plot"
   ]
  },
  {
   "cell_type": "code",
   "execution_count": 14,
   "metadata": {},
   "outputs": [
    {
     "data": {
      "image/png": "[encoded data removed]",
      "text/plain": [
       "<Figure size 432x288 with 1 Axes>"
      ]
     },
     "metadata": {
      "needs_background": "light"
     },
     "output_type": "display_data"
    }
   ],
   "source": [
    "plt.scatter(weather_df[\"Lat\"],weather_df[\"Wind Speed\"],edgecolors=\"black\",facecolors=\"skyblue\")\n",
    "plt.title(\"City Latitude vs. Wind Speed (07/16/20)\")\n",
    "plt.xlabel(\"Latitude\")\n",
    "plt.ylabel(\"Wind Speed (mph)\")\n",
    "plt.grid (b=True,which=\"major\",axis=\"both\",linestyle=\"-\",color=\"lightgrey\")\n",
    "plt.savefig(\"Output/fig2.png\")\n",
    "plt.show()"
   ]
  },
  {
   "cell_type": "markdown",
   "metadata": {},
   "source": [
    "## Linear Regression"
   ]
  },
  {
   "cell_type": "code",
   "execution_count": 15,
   "metadata": {},
   "outputs": [
    {
     "name": "stdout",
     "output_type": "stream",
     "text": [
      "                City  Cloudiness Country        Date  Humidity    Lat     Lng  \\\n",
      "0             albany          75      US  1595453955        74  42.60  -73.97   \n",
      "1            mataura          95      NZ  1595454061        83 -46.19  168.86   \n",
      "2          jamestown          20      US  1595453957        73  42.10  -79.24   \n",
      "3              jumla         100      NP  1595454062        71  29.27   82.18   \n",
      "4            camacha          40      PT  1595453935        68  33.08  -16.33   \n",
      "..               ...         ...     ...         ...       ...    ...     ...   \n",
      "557       susanville           1      US  1595454189        23  40.42 -120.65   \n",
      "558  verkhnevilyuysk           0      RU  1595454189        87  63.45  120.32   \n",
      "559         celestun          15      MX  1595454189        66  20.87  -90.40   \n",
      "560             kars          13      TR  1595454190        82  40.60   43.09   \n",
      "561       cedar city           1      US  1595454190        15  37.68 -113.06   \n",
      "\n",
      "     Max Temp  Wind Speed  \n",
      "0       82.00        6.93  \n",
      "1       39.00        3.00  \n",
      "2       79.00       12.75  \n",
      "3       61.02        1.14  \n",
      "4       69.80       12.75  \n",
      "..        ...         ...  \n",
      "557     86.00        8.05  \n",
      "558     59.92        4.34  \n",
      "559     85.78       10.13  \n",
      "560     55.40       11.41  \n",
      "561     89.60       16.11  \n",
      "\n",
      "[562 rows x 9 columns]\n"
     ]
    }
   ],
   "source": [
    "print(weather_df)"
   ]
  },
  {
   "cell_type": "code",
   "execution_count": 16,
   "metadata": {},
   "outputs": [
    {
     "name": "stdout",
     "output_type": "stream",
     "text": [
      "The correlation between both factors is 0.08\n"
     ]
    }
   ],
   "source": [
    "# OPTIONAL: Create a function to create Linear Regression plots\n",
    "correlation = st.pearsonr(weather_df['Lat'],weather_df['Max Temp'])\n",
    "print(f\"The correlation between both factors is {round(correlation[0],2)}\")"
   ]
  },
  {
   "cell_type": "code",
   "execution_count": 22,
   "metadata": {},
   "outputs": [
    {
     "data": {
      "text/html": [
       "<div>\n",
       "<style scoped>\n",
       "    .dataframe tbody tr th:only-of-type {\n",
       "        vertical-align: middle;\n",
       "    }\n",
       "\n",
       "    .dataframe tbody tr th {\n",
       "        vertical-align: top;\n",
       "    }\n",
       "\n",
       "    .dataframe thead th {\n",
       "        text-align: right;\n",
       "    }\n",
       "</style>\n",
       "<table border=\"1\" class=\"dataframe\">\n",
       "  <thead>\n",
       "    <tr style=\"text-align: right;\">\n",
       "      <th></th>\n",
       "      <th>City</th>\n",
       "      <th>Cloudiness</th>\n",
       "      <th>Country</th>\n",
       "      <th>Date</th>\n",
       "      <th>Humidity</th>\n",
       "      <th>Lat</th>\n",
       "      <th>Lng</th>\n",
       "      <th>Max Temp</th>\n",
       "      <th>Wind Speed</th>\n",
       "    </tr>\n",
       "  </thead>\n",
       "  <tbody>\n",
       "    <tr>\n",
       "      <th>0</th>\n",
       "      <td>albany</td>\n",
       "      <td>75</td>\n",
       "      <td>US</td>\n",
       "      <td>1595453955</td>\n",
       "      <td>74</td>\n",
       "      <td>42.60</td>\n",
       "      <td>-73.97</td>\n",
       "      <td>82.00</td>\n",
       "      <td>6.93</td>\n",
       "    </tr>\n",
       "    <tr>\n",
       "      <th>2</th>\n",
       "      <td>jamestown</td>\n",
       "      <td>20</td>\n",
       "      <td>US</td>\n",
       "      <td>1595453957</td>\n",
       "      <td>73</td>\n",
       "      <td>42.10</td>\n",
       "      <td>-79.24</td>\n",
       "      <td>79.00</td>\n",
       "      <td>12.75</td>\n",
       "    </tr>\n",
       "    <tr>\n",
       "      <th>3</th>\n",
       "      <td>jumla</td>\n",
       "      <td>100</td>\n",
       "      <td>NP</td>\n",
       "      <td>1595454062</td>\n",
       "      <td>71</td>\n",
       "      <td>29.27</td>\n",
       "      <td>82.18</td>\n",
       "      <td>61.02</td>\n",
       "      <td>1.14</td>\n",
       "    </tr>\n",
       "    <tr>\n",
       "      <th>4</th>\n",
       "      <td>camacha</td>\n",
       "      <td>40</td>\n",
       "      <td>PT</td>\n",
       "      <td>1595453935</td>\n",
       "      <td>68</td>\n",
       "      <td>33.08</td>\n",
       "      <td>-16.33</td>\n",
       "      <td>69.80</td>\n",
       "      <td>12.75</td>\n",
       "    </tr>\n",
       "    <tr>\n",
       "      <th>6</th>\n",
       "      <td>lagos</td>\n",
       "      <td>40</td>\n",
       "      <td>NG</td>\n",
       "      <td>1595454062</td>\n",
       "      <td>94</td>\n",
       "      <td>6.58</td>\n",
       "      <td>3.75</td>\n",
       "      <td>77.00</td>\n",
       "      <td>4.70</td>\n",
       "    </tr>\n",
       "  </tbody>\n",
       "</table>\n",
       "</div>"
      ],
      "text/plain": [
       "        City  Cloudiness Country        Date  Humidity    Lat    Lng  \\\n",
       "0     albany          75      US  1595453955        74  42.60 -73.97   \n",
       "2  jamestown          20      US  1595453957        73  42.10 -79.24   \n",
       "3      jumla         100      NP  1595454062        71  29.27  82.18   \n",
       "4    camacha          40      PT  1595453935        68  33.08 -16.33   \n",
       "6      lagos          40      NG  1595454062        94   6.58   3.75   \n",
       "\n",
       "   Max Temp  Wind Speed  \n",
       "0     82.00        6.93  \n",
       "2     79.00       12.75  \n",
       "3     61.02        1.14  \n",
       "4     69.80       12.75  \n",
       "6     77.00        4.70  "
      ]
     },
     "execution_count": 22,
     "metadata": {},
     "output_type": "execute_result"
    }
   ],
   "source": [
    "# Create Northern and Southern Hemisphere DataFrames\n",
    "north_hem = weather_df.groupby(['City']).head()\n",
    "\n",
    "northern_data = north_hem[weather_df['Lat'] > 0]\n",
    "northern_data.head()"
   ]
  },
  {
   "cell_type": "code",
   "execution_count": 23,
   "metadata": {},
   "outputs": [
    {
     "data": {
      "text/html": [
       "<div>\n",
       "<style scoped>\n",
       "    .dataframe tbody tr th:only-of-type {\n",
       "        vertical-align: middle;\n",
       "    }\n",
       "\n",
       "    .dataframe tbody tr th {\n",
       "        vertical-align: top;\n",
       "    }\n",
       "\n",
       "    .dataframe thead th {\n",
       "        text-align: right;\n",
       "    }\n",
       "</style>\n",
       "<table border=\"1\" class=\"dataframe\">\n",
       "  <thead>\n",
       "    <tr style=\"text-align: right;\">\n",
       "      <th></th>\n",
       "      <th>City</th>\n",
       "      <th>Cloudiness</th>\n",
       "      <th>Country</th>\n",
       "      <th>Date</th>\n",
       "      <th>Humidity</th>\n",
       "      <th>Lat</th>\n",
       "      <th>Lng</th>\n",
       "      <th>Max Temp</th>\n",
       "      <th>Wind Speed</th>\n",
       "    </tr>\n",
       "  </thead>\n",
       "  <tbody>\n",
       "    <tr>\n",
       "      <th>1</th>\n",
       "      <td>mataura</td>\n",
       "      <td>95</td>\n",
       "      <td>NZ</td>\n",
       "      <td>1595454061</td>\n",
       "      <td>83</td>\n",
       "      <td>-46.19</td>\n",
       "      <td>168.86</td>\n",
       "      <td>39.00</td>\n",
       "      <td>3.00</td>\n",
       "    </tr>\n",
       "    <tr>\n",
       "      <th>5</th>\n",
       "      <td>saint-joseph</td>\n",
       "      <td>90</td>\n",
       "      <td>RE</td>\n",
       "      <td>1595454062</td>\n",
       "      <td>56</td>\n",
       "      <td>-21.37</td>\n",
       "      <td>55.62</td>\n",
       "      <td>68.00</td>\n",
       "      <td>13.87</td>\n",
       "    </tr>\n",
       "    <tr>\n",
       "      <th>10</th>\n",
       "      <td>punta arenas</td>\n",
       "      <td>20</td>\n",
       "      <td>CL</td>\n",
       "      <td>1595454063</td>\n",
       "      <td>100</td>\n",
       "      <td>-53.15</td>\n",
       "      <td>-70.92</td>\n",
       "      <td>26.60</td>\n",
       "      <td>6.93</td>\n",
       "    </tr>\n",
       "    <tr>\n",
       "      <th>12</th>\n",
       "      <td>ushuaia</td>\n",
       "      <td>95</td>\n",
       "      <td>AR</td>\n",
       "      <td>1595453838</td>\n",
       "      <td>64</td>\n",
       "      <td>-54.80</td>\n",
       "      <td>-68.30</td>\n",
       "      <td>35.60</td>\n",
       "      <td>4.70</td>\n",
       "    </tr>\n",
       "    <tr>\n",
       "      <th>13</th>\n",
       "      <td>sungaipenuh</td>\n",
       "      <td>95</td>\n",
       "      <td>ID</td>\n",
       "      <td>1595454064</td>\n",
       "      <td>94</td>\n",
       "      <td>-2.08</td>\n",
       "      <td>101.38</td>\n",
       "      <td>62.73</td>\n",
       "      <td>1.74</td>\n",
       "    </tr>\n",
       "  </tbody>\n",
       "</table>\n",
       "</div>"
      ],
      "text/plain": [
       "            City  Cloudiness Country        Date  Humidity    Lat     Lng  \\\n",
       "1        mataura          95      NZ  1595454061        83 -46.19  168.86   \n",
       "5   saint-joseph          90      RE  1595454062        56 -21.37   55.62   \n",
       "10  punta arenas          20      CL  1595454063       100 -53.15  -70.92   \n",
       "12       ushuaia          95      AR  1595453838        64 -54.80  -68.30   \n",
       "13   sungaipenuh          95      ID  1595454064        94  -2.08  101.38   \n",
       "\n",
       "    Max Temp  Wind Speed  \n",
       "1      39.00        3.00  \n",
       "5      68.00       13.87  \n",
       "10     26.60        6.93  \n",
       "12     35.60        4.70  \n",
       "13     62.73        1.74  "
      ]
     },
     "execution_count": 23,
     "metadata": {},
     "output_type": "execute_result"
    }
   ],
   "source": [
    "south_hem = weather_df.groupby(['City']).head()\n",
    "southern_data = south_hem[weather_df['Lat'] < 0]\n",
    "southern_data.head()"
   ]
  },
  {
   "cell_type": "markdown",
   "metadata": {},
   "source": [
    "####  Northern Hemisphere - Max Temp vs. Latitude Linear Regression"
   ]
  },
  {
   "cell_type": "code",
   "execution_count": 24,
   "metadata": {},
   "outputs": [
    {
     "name": "stdout",
     "output_type": "stream",
     "text": [
      "The r-squared is: -0.6786413614452056\n",
      "The equation of the regression line is: y = -0.46x + 88.64\n"
     ]
    },
    {
     "data": {
      "image/png": "[encoded data removed]",
      "text/plain": [
       "<Figure size 432x288 with 1 Axes>"
      ]
     },
     "metadata": {
      "needs_background": "light"
     },
     "output_type": "display_data"
    }
   ],
   "source": [
    "x_values = northern_data['Lat']\n",
    "y_values = northern_data['Max Temp']\n",
    "(slope, intercept, rvalue, pvalue, stderr) = linregress(x_values, y_values)\n",
    "regress_values = x_values * slope + intercept\n",
    "line_eq = f'y = {str(round(slope,2))}x + {str(round(intercept,2))}'\n",
    "plt.scatter(x_values,y_values)\n",
    "plt.plot(x_values,regress_values,\"r-\")\n",
    "plt.annotate(line_eq,(17,37),fontsize=15,color=\"black\")\n",
    "plt.title(\"Northern Hemisphere - Max Temp vs. Latitude Linear Regression\")\n",
    "plt.xlabel(\"Latitude\")\n",
    "plt.ylabel(\"Max Temp\")\n",
    "print(f\"The r-squared is: {rvalue}\")\n",
    "print(f\"The equation of the regression line is: {line_eq}\")\n",
    "plt.savefig(\"Output/NorthMaxLat.png\")\n",
    "plt.show()"
   ]
  },
  {
   "cell_type": "markdown",
   "metadata": {},
   "source": [
    "####  Southern Hemisphere - Max Temp vs. Latitude Linear Regression"
   ]
  },
  {
   "cell_type": "code",
   "execution_count": 25,
   "metadata": {},
   "outputs": [
    {
     "name": "stdout",
     "output_type": "stream",
     "text": [
      "The r-squared is: 0.7813961002642363\n",
      "The equation of the regression line is: y = 0.8x + 79.86\n"
     ]
    },
    {
     "data": {
      "image/png": "[encoded data removed]",
      "text/plain": [
       "<Figure size 432x288 with 1 Axes>"
      ]
     },
     "metadata": {
      "needs_background": "light"
     },
     "output_type": "display_data"
    }
   ],
   "source": [
    "x_values = southern_data['Lat']\n",
    "y_values = southern_data['Max Temp']\n",
    "(slope, intercept, rvalue, pvalue, stderr) = linregress(x_values, y_values)\n",
    "regress_values = x_values * slope + intercept\n",
    "line_eq = f'y = {str(round(slope,2))}x + {str(round(intercept,2))}'\n",
    "plt.scatter(x_values,y_values)\n",
    "plt.plot(x_values,regress_values,\"r-\")\n",
    "plt.annotate(line_eq,(17,37),fontsize=15,color=\"black\")\n",
    "plt.title(\"Southern Hemisphere - Max Temp vs. Latitude Linear Regression\")\n",
    "plt.xlabel(\"Latitude\")\n",
    "plt.ylabel(\"Max Temp\")\n",
    "print(f\"The r-squared is: {rvalue}\")\n",
    "print(f\"The equation of the regression line is: {line_eq}\")\n",
    "plt.savefig(\"Output/SouthMaxLat.png\")\n",
    "plt.show()"
   ]
  },
  {
   "cell_type": "markdown",
   "metadata": {},
   "source": [
    "####  Northern Hemisphere - Humidity (%) vs. Latitude Linear Regression"
   ]
  },
  {
   "cell_type": "code",
   "execution_count": 26,
   "metadata": {},
   "outputs": [
    {
     "name": "stdout",
     "output_type": "stream",
     "text": [
      "The r-squared is: -0.01681809007736141\n",
      "The equation of the regression line is: y = -0.02x + 72.21\n"
     ]
    },
    {
     "data": {
      "image/png": "[encoded data removed]",
      "text/plain": [
       "<Figure size 432x288 with 1 Axes>"
      ]
     },
     "metadata": {
      "needs_background": "light"
     },
     "output_type": "display_data"
    }
   ],
   "source": [
    "x_values = northern_data['Lat']\n",
    "y_values = northern_data['Humidity']\n",
    "(slope, intercept, rvalue, pvalue, stderr) = linregress(x_values, y_values)\n",
    "regress_values = x_values * slope + intercept\n",
    "line_eq = f'y = {str(round(slope,2))}x + {str(round(intercept,2))}'\n",
    "plt.scatter(x_values,y_values)\n",
    "plt.plot(x_values,regress_values,\"r-\")\n",
    "plt.annotate(line_eq,(17,37),fontsize=15,color=\"black\")\n",
    "plt.title(\"Northern Hemisphere - Humidity vs. Latitude Linear Regression\")\n",
    "plt.xlabel(\"Latitude\")\n",
    "plt.ylabel(\"Humidity (%)\")\n",
    "print(f\"The r-squared is: {rvalue}\")\n",
    "print(f\"The equation of the regression line is: {line_eq}\")\n",
    "plt.savefig(\"Output/NorthHumid.png\")\n",
    "plt.show()"
   ]
  },
  {
   "cell_type": "markdown",
   "metadata": {},
   "source": [
    "####  Southern Hemisphere - Humidity (%) vs. Latitude Linear Regression"
   ]
  },
  {
   "cell_type": "code",
   "execution_count": 27,
   "metadata": {},
   "outputs": [
    {
     "name": "stdout",
     "output_type": "stream",
     "text": [
      "The r-squared is: -0.1387055178621256\n",
      "The equation of the regression line is: y = -0.19x + 67.23\n"
     ]
    },
    {
     "data": {
      "image/png": "[encoded data removed]",
      "text/plain": [
       "<Figure size 432x288 with 1 Axes>"
      ]
     },
     "metadata": {
      "needs_background": "light"
     },
     "output_type": "display_data"
    }
   ],
   "source": [
    "x_values = southern_data['Lat']\n",
    "y_values = southern_data['Humidity']\n",
    "(slope, intercept, rvalue, pvalue, stderr) = linregress(x_values, y_values)\n",
    "regress_values = x_values * slope + intercept\n",
    "line_eq = f'y = {str(round(slope,2))}x + {str(round(intercept,2))}'\n",
    "plt.scatter(x_values,y_values)\n",
    "plt.plot(x_values,regress_values,\"r-\")\n",
    "plt.annotate(line_eq,(17,37),fontsize=15,color=\"black\")\n",
    "plt.title(\"Southern Hemisphere - Humidity vs. Latitude Linear Regression\")\n",
    "plt.xlabel(\"Latitude\")\n",
    "plt.ylabel(\"Humidity (%)\")\n",
    "print(f\"The r-squared is: {rvalue}\")\n",
    "print(f\"The equation of the regression line is: {line_eq}\")\n",
    "plt.savefig(\"Output/SouthHumid.png\")\n",
    "plt.show()"
   ]
  },
  {
   "cell_type": "markdown",
   "metadata": {},
   "source": [
    "####  Northern Hemisphere - Cloudiness (%) vs. Latitude Linear Regression"
   ]
  },
  {
   "cell_type": "code",
   "execution_count": 28,
   "metadata": {},
   "outputs": [
    {
     "name": "stdout",
     "output_type": "stream",
     "text": [
      "The r-squared is: -0.008711143385627137\n",
      "The equation of the regression line is: y = -0.02x + 53.68\n"
     ]
    },
    {
     "data": {
      "image/png": "[encoded data removed]",
      "text/plain": [
       "<Figure size 432x288 with 1 Axes>"
      ]
     },
     "metadata": {
      "needs_background": "light"
     },
     "output_type": "display_data"
    }
   ],
   "source": [
    "x_values = northern_data['Lat']\n",
    "y_values = northern_data['Cloudiness']\n",
    "(slope, intercept, rvalue, pvalue, stderr) = linregress(x_values, y_values)\n",
    "regress_values = x_values * slope + intercept\n",
    "line_eq = f'y = {str(round(slope,2))}x + {str(round(intercept,2))}'\n",
    "plt.scatter(x_values,y_values)\n",
    "plt.plot(x_values,regress_values,\"r-\")\n",
    "plt.annotate(line_eq,(17,37),fontsize=15,color=\"black\")\n",
    "plt.title(\"Northern Hemisphere - Cloudiness vs. Latitude Linear Regression\")\n",
    "plt.xlabel(\"Latitude\")\n",
    "plt.ylabel(\"Cloudiness (%)\")\n",
    "print(f\"The r-squared is: {rvalue}\")\n",
    "print(f\"The equation of the regression line is: {line_eq}\")\n",
    "plt.savefig(\"Output/NorthCloud.png\")\n",
    "plt.show()"
   ]
  },
  {
   "cell_type": "markdown",
   "metadata": {},
   "source": [
    "####  Southern Hemisphere - Cloudiness (%) vs. Latitude Linear Regression"
   ]
  },
  {
   "cell_type": "code",
   "execution_count": 29,
   "metadata": {},
   "outputs": [
    {
     "name": "stdout",
     "output_type": "stream",
     "text": [
      "The r-squared is: -0.02265066774428827\n",
      "The equation of the regression line is: y = -0.06x + 43.47\n"
     ]
    },
    {
     "data": {
      "image/png": "[encoded data removed]",
      "text/plain": [
       "<Figure size 432x288 with 1 Axes>"
      ]
     },
     "metadata": {
      "needs_background": "light"
     },
     "output_type": "display_data"
    }
   ],
   "source": [
    "x_values = southern_data['Lat']\n",
    "y_values = southern_data['Cloudiness']\n",
    "(slope, intercept, rvalue, pvalue, stderr) = linregress(x_values, y_values)\n",
    "regress_values = x_values * slope + intercept\n",
    "line_eq = f'y = {str(round(slope,2))}x + {str(round(intercept,2))}'\n",
    "plt.scatter(x_values,y_values)\n",
    "plt.plot(x_values,regress_values,\"r-\")\n",
    "plt.annotate(line_eq,(17,37),fontsize=15,color=\"black\")\n",
    "plt.title(\"Southern Hemisphere - Cloudiness vs. Latitude Linear Regression\")\n",
    "plt.xlabel(\"Latitude\")\n",
    "plt.ylabel(\"Cloudiness (%)\")\n",
    "print(f\"The r-squared is: {rvalue}\")\n",
    "print(f\"The equation of the regression line is: {line_eq}\")\n",
    "plt.savefig(\"Output/SouthCloud.png\")\n",
    "plt.show()"
   ]
  },
  {
   "cell_type": "markdown",
   "metadata": {},
   "source": [
    "####  Northern Hemisphere - Wind Speed (mph) vs. Latitude Linear Regression"
   ]
  },
  {
   "cell_type": "code",
   "execution_count": 30,
   "metadata": {},
   "outputs": [
    {
     "name": "stdout",
     "output_type": "stream",
     "text": [
      "The r-squared is: 0.07591934771508203\n",
      "The equation of the regression line is: y = 0.02x + 7.18\n"
     ]
    },
    {
     "data": {
      "image/png": "[encoded data removed]",
      "text/plain": [
       "<Figure size 432x288 with 1 Axes>"
      ]
     },
     "metadata": {
      "needs_background": "light"
     },
     "output_type": "display_data"
    }
   ],
   "source": [
    "x_values = northern_data['Lat']\n",
    "y_values = northern_data['Wind Speed']\n",
    "(slope, intercept, rvalue, pvalue, stderr) = linregress(x_values, y_values)\n",
    "regress_values = x_values * slope + intercept\n",
    "line_eq = f'y = {str(round(slope,2))}x + {str(round(intercept,2))}'\n",
    "plt.scatter(x_values,y_values)\n",
    "plt.plot(x_values,regress_values,\"r-\")\n",
    "plt.annotate(line_eq,(17,37),fontsize=15,color=\"black\")\n",
    "plt.title(\"Northern Hemisphere - Wind Speed vs. Latitude Linear Regression\")\n",
    "plt.xlabel(\"Latitude\")\n",
    "plt.ylabel(\"Wind Speed (mph)\")\n",
    "print(f\"The r-squared is: {rvalue}\")\n",
    "print(f\"The equation of the regression line is: {line_eq}\")\n",
    "plt.savefig(\"Output/NorthWind.png\")\n",
    "plt.show()"
   ]
  },
  {
   "cell_type": "markdown",
   "metadata": {},
   "source": [
    "####  Southern Hemisphere - Wind Speed (mph) vs. Latitude Linear Regression"
   ]
  },
  {
   "cell_type": "code",
   "execution_count": 31,
   "metadata": {},
   "outputs": [
    {
     "name": "stdout",
     "output_type": "stream",
     "text": [
      "The r-squared is: 0.032977321331171074\n",
      "The equation of the regression line is: y = 0.01x + 7.66\n"
     ]
    },
    {
     "data": {
      "image/png": "[encoded data removed]",
      "text/plain": [
       "<Figure size 432x288 with 1 Axes>"
      ]
     },
     "metadata": {
      "needs_background": "light"
     },
     "output_type": "display_data"
    }
   ],
   "source": [
    "x_values = southern_data['Lat']\n",
    "y_values = southern_data['Wind Speed']\n",
    "(slope, intercept, rvalue, pvalue, stderr) = linregress(x_values, y_values)\n",
    "regress_values = x_values * slope + intercept\n",
    "line_eq = f'y = {str(round(slope,2))}x + {str(round(intercept,2))}'\n",
    "plt.scatter(x_values,y_values)\n",
    "plt.plot(x_values,regress_values,\"r-\")\n",
    "plt.annotate(line_eq,(17,37),fontsize=15,color=\"black\")\n",
    "plt.title(\"Southern Hemisphere - Wind Speed vs. Latitude Linear Regression\")\n",
    "plt.xlabel(\"Latitude\")\n",
    "plt.ylabel(\"Wind Speed (mph)\")\n",
    "print(f\"The r-squared is: {rvalue}\")\n",
    "print(f\"The equation of the regression line is: {line_eq}\")\n",
    "plt.savefig(\"Output/SouthWind.png\")\n",
    "plt.show()"
   ]
  },
  {
   "cell_type": "markdown",
   "metadata": {},
   "source": []
  },
  {
   "cell_type": "markdown",
   "metadata": {},
   "source": [
    "# Observable Trends"
   ]
  },
  {
   "cell_type": "code",
   "execution_count": 34,
   "metadata": {},
   "outputs": [],
   "source": [
    "# When looking at both the Southern Hemisphere and Northern Hemisphere Max Temp vs. Latitude Linear Regression, both tables indicate that weather is hotter for citties cloer to the equater.\n"
   ]
  },
  {
   "cell_type": "code",
   "execution_count": 35,
   "metadata": {},
   "outputs": [],
   "source": [
    "# Wind speeds in both Nothern and Southern hemisphers are relively similar and reports there is no bias in wind speeds in either halves of the planet"
   ]
  },
  {
   "cell_type": "code",
   "execution_count": 36,
   "metadata": {},
   "outputs": [],
   "source": [
    "# Using the Latitude and Couldiness plot of all the cities observed, couldiness appears to be equal across the planet. However, Cities closests to the equator have less clouds."
   ]
  },
  {
   "cell_type": "code",
   "execution_count": null,
   "metadata": {},
   "outputs": [],
   "source": []
  }
 ],
 "metadata": {
  "anaconda-cloud": {},
  "kernel_info": {
   "name": "python3"
  },
  "kernelspec": {
   "display_name": "Python 3",
   "language": "python",
   "name": "python3"
  },
  "language_info": {
   "codemirror_mode": {
    "name": "ipython",
    "version": 3
   },
   "file_extension": ".py",
   "mimetype": "text/x-python",
   "name": "python",
   "nbconvert_exporter": "python",
   "pygments_lexer": "ipython3",
   "version": "3.6.10"
  },
  "latex_envs": {
   "LaTeX_envs_menu_present": true,
   "autoclose": false,
   "autocomplete": true,
   "bibliofile": "biblio.bib",
   "cite_by": "apalike",
   "current_citInitial": 1,
   "eqLabelWithNumbers": true,
   "eqNumInitial": 1,
   "hotkeys": {
    "equation": "Ctrl-E",
    "itemize": "Ctrl-I"
   },
   "labels_anchors": false,
   "latex_user_defs": false,
   "report_style_numbering": false,
   "user_envs_cfg": false
  },
  "nteract": {
   "version": "0.12.3"
  }
 },
 "nbformat": 4,
 "nbformat_minor": 2
}
