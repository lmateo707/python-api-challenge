{
 "cells": [
  {
   "cell_type": "markdown",
   "metadata": {},
   "source": [
    "# WeatherPy\n",
    "----\n",
    "\n",
    "#### Note\n",
    "* Instructions have been included for each segment. You do not have to follow them exactly, but they are included to help you think through the steps."
   ]
  },
  {
   "cell_type": "code",
   "execution_count": 25,
   "metadata": {},
   "outputs": [
    {
     "name": "stdout",
     "output_type": "stream",
     "text": [
      "Requirement already satisfied: citipy in c:\\users\\mateo\\anaconda3\\envs\\pythondata\\lib\\site-packages (0.0.5)\n",
      "Requirement already satisfied: kdtree>=0.12 in c:\\users\\mateo\\anaconda3\\envs\\pythondata\\lib\\site-packages (from citipy) (0.16)\n"
     ]
    }
   ],
   "source": [
    "!pip install citipy"
   ]
  },
  {
   "cell_type": "code",
   "execution_count": 109,
   "metadata": {
    "scrolled": true
   },
   "outputs": [],
   "source": [
    "# Dependencies and Setup\n",
    "import matplotlib.pyplot as plt\n",
    "import pandas as pd\n",
    "import numpy as np\n",
    "import requests\n",
    "import time\n",
    "from scipy.stats import linregress\n",
    "import scipy.stats as st\n",
    "from sklearn import datasets\n",
    "\n",
    "\n",
    "# Import API key\n",
    "from api_keys import weather_api_key\n",
    "# temp_units = \"Imperial\"\n",
    "weather_api_key = \"815723b5303463214a58c63ab1eefd9f\"\n",
    "api_key = weather_api_key\n",
    "# Incorporated citipy to determine city based on latitude and longitude\n",
    "from citipy import citipy\n",
    "\n",
    "# Output File (CSV)\n",
    "output_data_file = \"output/cities.csv\"\n",
    "\n",
    "# Range of latitudes and longitudes\n",
    "lat_range = (-90, 90)\n",
    "lng_range = (-180, 180)\n",
    "\n",
    "query_url = f\"http://api.openweathermap.org/data/2.5/weather?appid={api_key}&units={temp_units}&q=\"\n",
    "count = 0\n",
    "set_one = 1\n",
    "\n",
    "\n",
    "# url = \"http://api.openweathermap.org/data/2.5/weather?\"\n",
    "# units = \"metric\"\n",
    "\n",
    "# # Build partial query URL\n",
    "# query_url = f\"{url}appid={api_key}&units={units}&q=\"\n",
    "\n"
   ]
  },
  {
   "cell_type": "markdown",
   "metadata": {},
   "source": [
    "## Generate Cities List"
   ]
  },
  {
   "cell_type": "code",
   "execution_count": 47,
   "metadata": {},
   "outputs": [
    {
     "data": {
      "text/plain": [
       "619"
      ]
     },
     "execution_count": 47,
     "metadata": {},
     "output_type": "execute_result"
    }
   ],
   "source": [
    "# List for holding lat_lngs and cities\n",
    "lat_lngs = []\n",
    "cities = []\n",
    "\n",
    "# Create a set of random lat and lng combinations\n",
    "lats = np.random.uniform(lat_range[0], lat_range[1], size=1500)\n",
    "lngs = np.random.uniform(lng_range[0], lng_range[1], size=1500)\n",
    "lat_lngs = zip(lats, lngs)\n",
    "\n",
    "# Identify nearest city for each lat, lng combination\n",
    "for lat_lng in lat_lngs:\n",
    "    city = citipy.nearest_city(lat_lng[0], lat_lng[1]).city_name\n",
    "    \n",
    "    # If the city is unique, then add it to a our cities list\n",
    "    if city not in cities:\n",
    "        cities.append(city)\n",
    "\n",
    "# Print the city count to confirm sufficient count\n",
    "len(cities)\n"
   ]
  },
  {
   "cell_type": "markdown",
   "metadata": {},
   "source": [
    "### Perform API Calls\n",
    "* Perform a weather check on each city using a series of successive API calls.\n",
    "* Include a print log of each city as it'sbeing processed (with the city number and city name).\n"
   ]
  },
  {
   "cell_type": "code",
   "execution_count": 54,
   "metadata": {},
   "outputs": [
    {
     "name": "stdout",
     "output_type": "stream",
     "text": [
      "Processing Record 1 of set 1 | dali\n",
      "Processing Record 2 of set 1 | qaanaaq\n",
      "Processing Record 3 of set 1 | cape town\n",
      "Processing Record 4 of set 1 | saint-philippe\n",
      "Processing Record 5 of set 1 | mataura\n",
      "Processing Record 6 of set 1 | hobart\n",
      "Processing Record 7 of set 1 | albany\n",
      "Processing Record 8 of set 1 | adrar\n",
      "Processing Record 9 of set 1 | rikitea\n",
      "Processing Record 10 of set 1 | longyearbyen\n",
      "Processing Record 11 of set 1 | maple creek\n",
      "Processing Record 12 of set 1 | las vegas\n",
      "Processing Record 13 of set 1 | busselton\n",
      "Processing Record 14 of set 1 | muros\n",
      "Processing Record 15 of set 1 | maniitsoq\n",
      "Processing Record 16 of set 1 | pontalina\n",
      "Processing Record 17 of set 1 | carnarvon\n",
      "Processing Record 18 of set 1 | atuona\n",
      "Processing Record 19 of set 1 | bengkulu\n",
      "Processing Record 20 of set 1 | marawi\n",
      "Processing Record 21 of set 1 | ushuaia\n",
      "Processing Record 22 of set 1 | jamestown\n",
      "City not found Skipping...\n",
      "Processing Record 23 of set 1 | fallon\n",
      "Processing Record 24 of set 1 | dikson\n",
      "Processing Record 25 of set 1 | jalu\n",
      "Processing Record 26 of set 1 | ponta do sol\n",
      "Processing Record 27 of set 1 | butaritari\n",
      "Processing Record 28 of set 1 | new norfolk\n",
      "Processing Record 29 of set 1 | esperance\n",
      "Processing Record 30 of set 1 | castro\n",
      "Processing Record 31 of set 1 | bredasdorp\n",
      "Processing Record 32 of set 1 | tevriz\n",
      "Processing Record 33 of set 1 | hermanus\n",
      "Processing Record 34 of set 1 | yellowknife\n",
      "Processing Record 35 of set 1 | tabou\n",
      "Processing Record 36 of set 1 | georgetown\n",
      "Processing Record 37 of set 1 | vaini\n",
      "Processing Record 38 of set 1 | upernavik\n",
      "Processing Record 39 of set 1 | cidreira\n",
      "Processing Record 40 of set 1 | mount gambier\n",
      "Processing Record 41 of set 1 | hamilton\n",
      "Processing Record 42 of set 1 | slave lake\n",
      "Processing Record 43 of set 1 | marzuq\n",
      "Processing Record 44 of set 1 | port alfred\n",
      "Processing Record 45 of set 1 | vila velha\n",
      "City not found Skipping...\n",
      "Processing Record 46 of set 1 | tasiilaq\n",
      "City not found Skipping...\n",
      "City not found Skipping...\n",
      "Processing Record 47 of set 1 | punta arenas\n",
      "City not found Skipping...\n",
      "Processing Record 48 of set 1 | elizabeth city\n",
      "Processing Record 49 of set 1 | gualaquiza\n",
      "Processing Record 50 of set 1 | pedernales\n",
      "Processing Record 51 of set 1 | loubomo\n",
      "City not found Skipping...\n",
      "Processing Record 52 of set 1 | te anau\n",
      "Processing Record 53 of set 1 | kapaa\n",
      "Processing Record 54 of set 1 | sao filipe\n",
      "Processing Record 55 of set 1 | clermont\n",
      "Processing Record 56 of set 1 | khatanga\n",
      "Processing Record 57 of set 1 | touros\n",
      "Processing Record 58 of set 1 | camopi\n",
      "Processing Record 59 of set 1 | mahebourg\n",
      "Processing Record 60 of set 1 | san patricio\n",
      "City not found Skipping...\n",
      "Processing Record 61 of set 1 | tiksi\n",
      "Processing Record 62 of set 1 | victoria\n",
      "Processing Record 63 of set 1 | alice springs\n",
      "Processing Record 64 of set 1 | zhezkazgan\n",
      "Processing Record 65 of set 1 | faya\n",
      "Processing Record 66 of set 1 | pokrovskoye\n",
      "Processing Record 67 of set 1 | tura\n",
      "Processing Record 68 of set 1 | port blair\n",
      "Processing Record 69 of set 1 | freeport\n",
      "Processing Record 70 of set 1 | okhotsk\n",
      "Processing Record 71 of set 1 | goderich\n",
      "Processing Record 72 of set 1 | saryozek\n",
      "Processing Record 73 of set 1 | wana\n",
      "Processing Record 74 of set 1 | nabire\n",
      "Processing Record 75 of set 1 | ribeira grande\n",
      "City not found Skipping...\n",
      "Processing Record 76 of set 1 | abonnema\n",
      "Processing Record 77 of set 1 | avarua\n",
      "Processing Record 78 of set 1 | lompoc\n",
      "Processing Record 79 of set 1 | holme\n",
      "Processing Record 80 of set 1 | bluff\n",
      "Processing Record 81 of set 1 | bandarbeyla\n",
      "Processing Record 82 of set 1 | tuktoyaktuk\n",
      "Processing Record 83 of set 1 | saint george\n",
      "Processing Record 84 of set 1 | lastoursville\n",
      "City not found Skipping...\n",
      "Processing Record 85 of set 1 | chardara\n",
      "Processing Record 86 of set 1 | prieska\n",
      "Processing Record 87 of set 1 | north bend\n",
      "Processing Record 88 of set 1 | sinnamary\n",
      "Processing Record 89 of set 1 | port elizabeth\n",
      "Processing Record 90 of set 1 | katsuura\n",
      "Processing Record 91 of set 1 | thompson\n",
      "Processing Record 92 of set 1 | el real de santa maria\n",
      "Processing Record 93 of set 1 | manggar\n",
      "Processing Record 94 of set 1 | hilo\n",
      "Processing Record 95 of set 1 | puerto carreno\n",
      "Processing Record 96 of set 1 | nome\n",
      "Processing Record 97 of set 1 | atar\n",
      "Processing Record 98 of set 1 | yaan\n",
      "Processing Record 99 of set 1 | puerto ayora\n",
      "Processing Record 100 of set 1 | domoni\n",
      "Processing Record 101 of set 1 | sosnovka\n",
      "Processing Record 102 of set 1 | conde\n",
      "Processing Record 103 of set 1 | yar-sale\n",
      "Processing Record 104 of set 1 | egvekinot\n",
      "Processing Record 105 of set 1 | vila franca do campo\n",
      "Processing Record 106 of set 1 | beringovskiy\n",
      "Processing Record 107 of set 1 | nouadhibou\n",
      "Processing Record 108 of set 1 | ancud\n",
      "Processing Record 109 of set 1 | airai\n",
      "Processing Record 110 of set 1 | mar del plata\n",
      "Processing Record 111 of set 1 | nazca\n",
      "Processing Record 112 of set 1 | saint-denis\n",
      "Processing Record 113 of set 1 | pangnirtung\n",
      "Processing Record 114 of set 1 | lubaczow\n",
      "Processing Record 115 of set 1 | ambulu\n",
      "Processing Record 116 of set 1 | torbay\n",
      "City not found Skipping...\n",
      "Processing Record 117 of set 1 | evensk\n",
      "Processing Record 118 of set 1 | male\n",
      "Processing Record 119 of set 1 | kodiak\n",
      "Processing Record 120 of set 1 | nikolskoye\n",
      "Processing Record 121 of set 1 | poum\n",
      "City not found Skipping...\n",
      "Processing Record 122 of set 1 | cherskiy\n",
      "Processing Record 123 of set 1 | timmins\n",
      "Processing Record 124 of set 1 | sur\n",
      "Processing Record 125 of set 1 | kajaani\n",
      "Processing Record 126 of set 1 | anori\n",
      "Processing Record 127 of set 1 | camana\n",
      "Processing Record 128 of set 1 | asau\n",
      "Processing Record 129 of set 1 | korla\n",
      "Processing Record 130 of set 1 | opuwo\n",
      "Processing Record 131 of set 1 | jurm\n",
      "Processing Record 132 of set 1 | bennington\n",
      "Processing Record 133 of set 1 | bethel\n",
      "Processing Record 134 of set 1 | pemba\n",
      "Processing Record 135 of set 1 | constitucion\n",
      "Processing Record 136 of set 1 | pisco\n",
      "Processing Record 137 of set 1 | bend\n",
      "Processing Record 138 of set 1 | samarkand\n",
      "Processing Record 139 of set 1 | pitimbu\n",
      "Processing Record 140 of set 1 | kahului\n",
      "Processing Record 141 of set 1 | saskylakh\n",
      "City not found Skipping...\n",
      "City not found Skipping...\n",
      "Processing Record 142 of set 1 | luhyny\n",
      "Processing Record 143 of set 1 | nijar\n",
      "Processing Record 144 of set 1 | oranjemund\n",
      "City not found Skipping...\n",
      "Processing Record 145 of set 1 | chimbote\n",
      "Processing Record 146 of set 1 | lagoa\n",
      "City not found Skipping...\n",
      "Processing Record 147 of set 1 | cayenne\n",
      "Processing Record 148 of set 1 | samarai\n",
      "Processing Record 149 of set 1 | shatsk\n",
      "Processing Record 150 of set 1 | hithadhoo\n",
      "Processing Record 151 of set 1 | gat\n",
      "Processing Record 152 of set 1 | mayo\n",
      "Processing Record 153 of set 1 | butembo\n",
      "City not found Skipping...\n",
      "Processing Record 154 of set 1 | tarnogskiy gorodok\n",
      "Processing Record 155 of set 1 | catia la mar\n",
      "Processing Record 156 of set 1 | kalengwa\n",
      "Processing Record 157 of set 1 | taltal\n",
      "Processing Record 158 of set 1 | akdepe\n",
      "Processing Record 159 of set 1 | barrow\n",
      "City not found Skipping...\n",
      "Processing Record 160 of set 1 | alamosa\n",
      "Processing Record 161 of set 1 | cardston\n",
      "Processing Record 162 of set 1 | kysyl-syr\n",
      "Processing Record 163 of set 1 | brae\n",
      "Processing Record 164 of set 1 | labrea\n",
      "Processing Record 165 of set 1 | umm lajj\n",
      "Processing Record 166 of set 1 | eureka\n",
      "Processing Record 167 of set 1 | kalabo\n",
      "Processing Record 168 of set 1 | jinchang\n",
      "Processing Record 169 of set 1 | mogadishu\n",
      "Processing Record 170 of set 1 | sandane\n",
      "Processing Record 171 of set 1 | harrisonburg\n",
      "Processing Record 172 of set 1 | chuy\n",
      "Processing Record 173 of set 1 | taoudenni\n",
      "Processing Record 174 of set 1 | cabo san lucas\n",
      "Processing Record 175 of set 1 | sukhumi\n",
      "Processing Record 176 of set 1 | sol-iletsk\n",
      "Processing Record 177 of set 1 | costinesti\n",
      "Processing Record 178 of set 1 | rio grande\n",
      "Processing Record 179 of set 1 | allapalli\n",
      "Processing Record 180 of set 1 | aguililla\n",
      "Processing Record 181 of set 1 | cabedelo\n",
      "Processing Record 182 of set 1 | abeche\n",
      "Processing Record 183 of set 1 | anadyr\n",
      "Processing Record 184 of set 1 | kruisfontein\n",
      "Processing Record 185 of set 1 | kostomuksha\n",
      "Processing Record 186 of set 1 | saint-joseph\n",
      "Processing Record 187 of set 1 | gazli\n",
      "Processing Record 188 of set 1 | ampanihy\n"
     ]
    },
    {
     "name": "stdout",
     "output_type": "stream",
     "text": [
      "Processing Record 189 of set 1 | barcelos\n",
      "Processing Record 190 of set 1 | rocha\n",
      "Processing Record 191 of set 1 | kerman\n",
      "Processing Record 192 of set 1 | cayeli\n",
      "Processing Record 193 of set 1 | baillif\n",
      "Processing Record 194 of set 1 | saldanha\n",
      "Processing Record 195 of set 1 | mehamn\n",
      "Processing Record 196 of set 1 | villarrubia de los ojos\n",
      "Processing Record 197 of set 1 | madimba\n",
      "Processing Record 198 of set 1 | kavieng\n",
      "Processing Record 199 of set 1 | lorengau\n",
      "Processing Record 200 of set 1 | nuuk\n",
      "Processing Record 201 of set 1 | codrington\n",
      "Processing Record 202 of set 1 | lebu\n",
      "Processing Record 203 of set 1 | tigre\n",
      "Processing Record 204 of set 1 | ayagoz\n",
      "Processing Record 205 of set 1 | kirakira\n",
      "Processing Record 206 of set 1 | tazmalt\n",
      "Processing Record 207 of set 1 | benghazi\n",
      "Processing Record 208 of set 1 | kismayo\n",
      "Processing Record 209 of set 1 | villamontes\n",
      "Processing Record 210 of set 1 | panaba\n",
      "Processing Record 211 of set 1 | pipri\n",
      "Processing Record 212 of set 1 | flin flon\n",
      "Processing Record 213 of set 1 | cleethorpes\n",
      "Processing Record 214 of set 1 | arraial do cabo\n",
      "Processing Record 215 of set 1 | coffs harbour\n",
      "Processing Record 216 of set 1 | grand gaube\n",
      "Processing Record 217 of set 1 | laguna\n",
      "City not found Skipping...\n",
      "City not found Skipping...\n",
      "Processing Record 218 of set 1 | senador jose porfirio\n",
      "Processing Record 219 of set 1 | jacareacanga\n",
      "Processing Record 220 of set 1 | borogontsy\n",
      "Processing Record 221 of set 1 | jardim\n",
      "Processing Record 222 of set 1 | inirida\n",
      "Processing Record 223 of set 1 | prior lake\n",
      "City not found Skipping...\n",
      "Processing Record 224 of set 1 | matagami\n",
      "Processing Record 225 of set 1 | george town\n",
      "Processing Record 226 of set 1 | san quintin\n",
      "Processing Record 227 of set 1 | gravdal\n",
      "Processing Record 228 of set 1 | salalah\n",
      "Processing Record 229 of set 1 | nago\n",
      "Processing Record 230 of set 1 | talnakh\n",
      "City not found Skipping...\n",
      "Processing Record 231 of set 1 | bambanglipuro\n",
      "Processing Record 232 of set 1 | sitka\n",
      "Processing Record 233 of set 1 | sao joao da barra\n",
      "City not found Skipping...\n",
      "Processing Record 234 of set 1 | ucluelet\n",
      "Processing Record 235 of set 1 | pevek\n",
      "Processing Record 236 of set 1 | matara\n",
      "Processing Record 237 of set 1 | pravia\n",
      "Processing Record 238 of set 1 | porto novo\n",
      "Processing Record 239 of set 1 | santiago de cao\n",
      "Processing Record 240 of set 1 | ngunguru\n",
      "Processing Record 241 of set 1 | santa lucia\n",
      "Processing Record 242 of set 1 | semey\n",
      "Processing Record 243 of set 1 | manaus\n",
      "Processing Record 244 of set 1 | la trinitaria\n",
      "Processing Record 245 of set 1 | norman wells\n",
      "Processing Record 246 of set 1 | albuquerque\n",
      "Processing Record 247 of set 1 | chokurdakh\n",
      "Processing Record 248 of set 1 | severo-yeniseyskiy\n",
      "Processing Record 249 of set 1 | saint anthony\n",
      "Processing Record 250 of set 1 | fukue\n",
      "Processing Record 251 of set 1 | hami\n",
      "Processing Record 252 of set 1 | kalmunai\n",
      "Processing Record 253 of set 1 | sechura\n",
      "Processing Record 254 of set 1 | kibre mengist\n",
      "Processing Record 255 of set 1 | shubarkuduk\n",
      "Processing Record 256 of set 1 | ust-kut\n",
      "Processing Record 257 of set 1 | bundaberg\n",
      "Processing Record 258 of set 1 | qrendi\n",
      "Processing Record 259 of set 1 | marrakesh\n",
      "Processing Record 260 of set 1 | kasongo-lunda\n",
      "Processing Record 261 of set 1 | aljezur\n",
      "Processing Record 262 of set 1 | provideniya\n",
      "Processing Record 263 of set 1 | acarau\n",
      "Processing Record 264 of set 1 | saint augustine\n",
      "Processing Record 265 of set 1 | sinjar\n",
      "Processing Record 266 of set 1 | severo-kurilsk\n",
      "Processing Record 267 of set 1 | vostok\n",
      "Processing Record 268 of set 1 | the valley\n",
      "City not found Skipping...\n",
      "Processing Record 269 of set 1 | bambous virieux\n",
      "Processing Record 270 of set 1 | ojinaga\n",
      "Processing Record 271 of set 1 | ivdel\n",
      "Processing Record 272 of set 1 | teguldet\n",
      "Processing Record 273 of set 1 | bagotville\n",
      "Processing Record 274 of set 1 | ormara\n",
      "Processing Record 275 of set 1 | luanda\n",
      "Processing Record 276 of set 1 | san ramon de la nueva oran\n",
      "Processing Record 277 of set 1 | souillac\n",
      "Processing Record 278 of set 1 | shuyskoye\n",
      "Processing Record 279 of set 1 | griffith\n",
      "Processing Record 280 of set 1 | bonavista\n",
      "Processing Record 281 of set 1 | faanui\n",
      "Processing Record 282 of set 1 | sibiti\n",
      "Processing Record 283 of set 1 | namibe\n",
      "Processing Record 284 of set 1 | havelock\n",
      "Processing Record 285 of set 1 | rassvet\n",
      "Processing Record 286 of set 1 | tautira\n",
      "Processing Record 287 of set 1 | rameswaram\n",
      "Processing Record 288 of set 1 | geraldton\n",
      "Processing Record 289 of set 1 | alta floresta\n",
      "City not found Skipping...\n",
      "Processing Record 290 of set 1 | vanavara\n",
      "Processing Record 291 of set 1 | veraval\n",
      "City not found Skipping...\n",
      "Processing Record 292 of set 1 | itoman\n",
      "Processing Record 293 of set 1 | heihe\n",
      "Processing Record 294 of set 1 | shu\n",
      "Processing Record 295 of set 1 | ahipara\n",
      "Processing Record 296 of set 1 | walvis bay\n",
      "Processing Record 297 of set 1 | khorramshahr\n",
      "Processing Record 298 of set 1 | leshukonskoye\n",
      "Processing Record 299 of set 1 | manokwari\n",
      "Processing Record 300 of set 1 | asfi\n",
      "Processing Record 301 of set 1 | port hardy\n",
      "Processing Record 302 of set 1 | qianan\n",
      "Processing Record 303 of set 1 | lasa\n",
      "Processing Record 304 of set 1 | sorong\n",
      "Processing Record 305 of set 1 | ornskoldsvik\n",
      "Processing Record 306 of set 1 | northam\n",
      "Processing Record 307 of set 1 | san antonio\n",
      "Processing Record 308 of set 1 | jacmel\n",
      "City not found Skipping...\n",
      "Processing Record 309 of set 1 | guanica\n",
      "Processing Record 310 of set 1 | galle\n",
      "Processing Record 311 of set 1 | olinda\n",
      "Processing Record 312 of set 1 | padang\n",
      "Processing Record 313 of set 1 | nyurba\n",
      "Processing Record 314 of set 1 | tromso\n",
      "Processing Record 315 of set 1 | karauli\n",
      "Processing Record 316 of set 1 | auki\n",
      "City not found Skipping...\n",
      "City not found Skipping...\n",
      "Processing Record 317 of set 1 | dongsheng\n",
      "Processing Record 318 of set 1 | angoche\n",
      "City not found Skipping...\n",
      "Processing Record 319 of set 1 | bonthe\n",
      "Processing Record 320 of set 1 | villa carlos paz\n",
      "Processing Record 321 of set 1 | birao\n",
      "Processing Record 322 of set 1 | nishihara\n",
      "Processing Record 323 of set 1 | hobyo\n",
      "Processing Record 324 of set 1 | astoria\n",
      "Processing Record 325 of set 1 | severodvinsk\n",
      "Processing Record 326 of set 1 | boyuibe\n",
      "Processing Record 327 of set 1 | kralendijk\n",
      "City not found Skipping...\n",
      "Processing Record 328 of set 1 | axim\n",
      "Processing Record 329 of set 1 | coquimbo\n",
      "Processing Record 330 of set 1 | presidente medici\n",
      "Processing Record 331 of set 1 | eyl\n",
      "Processing Record 332 of set 1 | pangody\n",
      "Processing Record 333 of set 1 | minab\n",
      "Processing Record 334 of set 1 | iqaluit\n",
      "Processing Record 335 of set 1 | narsaq\n",
      "Processing Record 336 of set 1 | grootfontein\n",
      "Processing Record 337 of set 1 | nanortalik\n",
      "Processing Record 338 of set 1 | quimper\n",
      "Processing Record 339 of set 1 | ilulissat\n",
      "Processing Record 340 of set 1 | fortuna\n",
      "Processing Record 341 of set 1 | assisi\n",
      "Processing Record 342 of set 1 | vardo\n",
      "Processing Record 343 of set 1 | mbuji-mayi\n",
      "Processing Record 344 of set 1 | broome\n",
      "Processing Record 345 of set 1 | portland\n",
      "Processing Record 346 of set 1 | maraba\n",
      "Processing Record 347 of set 1 | karatuzskoye\n",
      "Processing Record 348 of set 1 | kaitangata\n",
      "Processing Record 349 of set 1 | alofi\n",
      "Processing Record 350 of set 1 | olean\n",
      "Processing Record 351 of set 1 | strezhevoy\n",
      "Processing Record 352 of set 1 | plaridel\n",
      "City not found Skipping...\n",
      "City not found Skipping...\n",
      "Processing Record 353 of set 1 | prince george\n",
      "Processing Record 354 of set 1 | cadillac\n",
      "Processing Record 355 of set 1 | bereda\n",
      "Processing Record 356 of set 1 | moerai\n",
      "Processing Record 357 of set 1 | bodaybo\n",
      "Processing Record 358 of set 1 | tiarei\n",
      "Processing Record 359 of set 1 | quatre cocos\n",
      "Processing Record 360 of set 1 | clyde river\n",
      "Processing Record 361 of set 1 | hambantota\n",
      "Processing Record 362 of set 1 | chibombo\n",
      "Processing Record 363 of set 1 | karasburg\n",
      "City not found Skipping...\n",
      "Processing Record 364 of set 1 | ust-nera\n",
      "Processing Record 365 of set 1 | hoquiam\n",
      "Processing Record 366 of set 1 | kamenka\n",
      "Processing Record 367 of set 1 | tuatapere\n",
      "Processing Record 368 of set 1 | ankang\n",
      "Processing Record 369 of set 1 | kudahuvadhoo\n",
      "Processing Record 370 of set 1 | ballina\n",
      "Processing Record 371 of set 1 | poronaysk\n"
     ]
    },
    {
     "name": "stdout",
     "output_type": "stream",
     "text": [
      "Processing Record 372 of set 1 | itarema\n",
      "Processing Record 373 of set 1 | bantou\n",
      "Processing Record 374 of set 1 | kununurra\n",
      "Processing Record 375 of set 1 | sicuani\n",
      "Processing Record 376 of set 1 | srednekolymsk\n",
      "Processing Record 377 of set 1 | maragogi\n",
      "Processing Record 378 of set 1 | pochutla\n",
      "Processing Record 379 of set 1 | maine-soroa\n",
      "Processing Record 380 of set 1 | kastamonu\n",
      "Processing Record 381 of set 1 | jamame\n",
      "Processing Record 382 of set 1 | suez\n",
      "Processing Record 383 of set 1 | camacha\n",
      "Processing Record 384 of set 1 | didao\n",
      "Processing Record 385 of set 1 | winslow\n",
      "Processing Record 386 of set 1 | plettenberg bay\n",
      "Processing Record 387 of set 1 | karymskoye\n",
      "Processing Record 388 of set 1 | chirongui\n",
      "City not found Skipping...\n",
      "Processing Record 389 of set 1 | east london\n",
      "Processing Record 390 of set 1 | flinders\n",
      "Processing Record 391 of set 1 | chara\n",
      "Processing Record 392 of set 1 | luderitz\n",
      "Processing Record 393 of set 1 | ketrzyn\n",
      "Processing Record 394 of set 1 | la ronge\n",
      "Processing Record 395 of set 1 | shache\n",
      "Processing Record 396 of set 1 | basoko\n",
      "Processing Record 397 of set 1 | paita\n",
      "Processing Record 398 of set 1 | ust-shonosha\n",
      "City not found Skipping...\n",
      "Processing Record 399 of set 1 | acapulco\n",
      "Processing Record 400 of set 1 | praia da vitoria\n",
      "Processing Record 401 of set 1 | bemidji\n",
      "Processing Record 402 of set 1 | avera\n",
      "Processing Record 403 of set 1 | neryungri\n",
      "Processing Record 404 of set 1 | belaya gora\n",
      "Processing Record 405 of set 1 | vao\n",
      "Processing Record 406 of set 1 | maceio\n",
      "Processing Record 407 of set 1 | yumen\n",
      "Processing Record 408 of set 1 | gao\n",
      "Processing Record 409 of set 1 | lac du bonnet\n",
      "Processing Record 410 of set 1 | paracatu\n",
      "Processing Record 411 of set 1 | santa rosa\n",
      "Processing Record 412 of set 1 | bere\n",
      "Processing Record 413 of set 1 | saint-georges\n",
      "Processing Record 414 of set 1 | hasaki\n",
      "Processing Record 415 of set 1 | coihaique\n",
      "Processing Record 416 of set 1 | shakawe\n",
      "Processing Record 417 of set 1 | polewali\n",
      "Processing Record 418 of set 1 | kosh-agach\n",
      "Processing Record 419 of set 1 | muncar\n",
      "Processing Record 420 of set 1 | santa ana\n",
      "Processing Record 421 of set 1 | juneau\n",
      "City not found Skipping...\n",
      "City not found Skipping...\n",
      "Processing Record 422 of set 1 | bilibino\n",
      "Processing Record 423 of set 1 | killybegs\n",
      "Processing Record 424 of set 1 | kieta\n",
      "Processing Record 425 of set 1 | fort nelson\n",
      "Processing Record 426 of set 1 | omboue\n",
      "Processing Record 427 of set 1 | stepnogorsk\n",
      "Processing Record 428 of set 1 | terra nova\n",
      "Processing Record 429 of set 1 | tamworth\n",
      "Processing Record 430 of set 1 | kulhudhuffushi\n",
      "Processing Record 431 of set 1 | laramie\n",
      "Processing Record 432 of set 1 | nouna\n",
      "Processing Record 433 of set 1 | mandalgovi\n",
      "Processing Record 434 of set 1 | leningradskiy\n",
      "Processing Record 435 of set 1 | tlacotepec\n",
      "Processing Record 436 of set 1 | huarmey\n",
      "Processing Record 437 of set 1 | strzegom\n",
      "Processing Record 438 of set 1 | prado\n",
      "Processing Record 439 of set 1 | tortoli\n",
      "Processing Record 440 of set 1 | ambrolauri\n",
      "Processing Record 441 of set 1 | sunam\n",
      "Processing Record 442 of set 1 | nushki\n",
      "Processing Record 443 of set 1 | riyadh\n",
      "Processing Record 444 of set 1 | paragominas\n",
      "Processing Record 445 of set 1 | port macquarie\n",
      "Processing Record 446 of set 1 | el jicaro\n",
      "Processing Record 447 of set 1 | bayan\n",
      "Processing Record 448 of set 1 | makakilo city\n",
      "Processing Record 449 of set 1 | hay river\n",
      "Processing Record 450 of set 1 | mandan\n",
      "Processing Record 451 of set 1 | terme\n",
      "Processing Record 452 of set 1 | tabuk\n",
      "Processing Record 453 of set 1 | rio gallegos\n",
      "Processing Record 454 of set 1 | baykit\n",
      "Processing Record 455 of set 1 | tessalit\n",
      "Processing Record 456 of set 1 | birjand\n",
      "City not found Skipping...\n",
      "Processing Record 457 of set 1 | wuchi\n",
      "City not found Skipping...\n",
      "Processing Record 458 of set 1 | varhaug\n",
      "Processing Record 459 of set 1 | magaria\n",
      "Processing Record 460 of set 1 | harper\n",
      "Processing Record 461 of set 1 | biak\n",
      "Processing Record 462 of set 1 | dingle\n",
      "Processing Record 463 of set 1 | goias\n",
      "Processing Record 464 of set 1 | necochea\n",
      "Processing Record 465 of set 1 | blagoyevo\n",
      "Processing Record 466 of set 1 | tolbazy\n",
      "Processing Record 467 of set 1 | praia\n",
      "Processing Record 468 of set 1 | pervomayskoye\n",
      "Processing Record 469 of set 1 | bowen\n",
      "Processing Record 470 of set 1 | sebring\n",
      "Processing Record 471 of set 1 | lata\n",
      "Processing Record 472 of set 1 | mildura\n",
      "Processing Record 473 of set 1 | plouzane\n",
      "Processing Record 474 of set 1 | clarksburg\n",
      "Processing Record 475 of set 1 | hibbing\n",
      "Processing Record 476 of set 1 | coahuayana\n",
      "Processing Record 477 of set 1 | sumenep\n",
      "Processing Record 478 of set 1 | napier\n",
      "Processing Record 479 of set 1 | plattsburgh\n",
      "Processing Record 480 of set 1 | arlit\n",
      "Processing Record 481 of set 1 | skibbereen\n",
      "Processing Record 482 of set 1 | abalak\n",
      "Processing Record 483 of set 1 | santa fe\n",
      "Processing Record 484 of set 1 | oktyabrskiy\n",
      "Processing Record 485 of set 1 | ulaanbaatar\n",
      "Processing Record 486 of set 1 | jasdan\n",
      "Processing Record 487 of set 1 | hofn\n",
      "Processing Record 488 of set 1 | shahrud\n",
      "Processing Record 489 of set 1 | monroe\n",
      "Processing Record 490 of set 1 | urubicha\n",
      "Processing Record 491 of set 1 | hovd\n",
      "Processing Record 492 of set 1 | roald\n",
      "Processing Record 493 of set 1 | pacific grove\n",
      "Processing Record 494 of set 1 | popondetta\n",
      "Processing Record 495 of set 1 | mosquera\n",
      "Processing Record 496 of set 1 | sharjah\n",
      "Processing Record 497 of set 1 | orsha\n",
      "Processing Record 498 of set 1 | russell\n",
      "Processing Record 499 of set 1 | kuito\n",
      "Processing Record 500 of set 1 | anqing\n",
      "Processing Record 501 of set 1 | port lincoln\n",
      "Processing Record 502 of set 1 | tygda\n",
      "Processing Record 503 of set 1 | bhan\n",
      "Processing Record 504 of set 1 | corinto\n",
      "Processing Record 505 of set 1 | tandil\n",
      "Processing Record 506 of set 1 | likasi\n",
      "Processing Record 507 of set 1 | rock sound\n",
      "Processing Record 508 of set 1 | thunder bay\n",
      "Processing Record 509 of set 1 | rundu\n",
      "Processing Record 510 of set 1 | lazaro cardenas\n",
      "Processing Record 511 of set 1 | batagay-alyta\n",
      "Processing Record 512 of set 1 | raudeberg\n",
      "Processing Record 513 of set 1 | bulawayo\n",
      "Processing Record 514 of set 1 | capaci\n",
      "Processing Record 515 of set 1 | pimenta bueno\n",
      "Processing Record 516 of set 1 | galveston\n",
      "City not found Skipping...\n",
      "Processing Record 517 of set 1 | beroroha\n",
      "Processing Record 518 of set 1 | peniche\n",
      "Processing Record 519 of set 1 | beloha\n",
      "Processing Record 520 of set 1 | cabras\n",
      "Processing Record 521 of set 1 | chokwe\n",
      "Processing Record 522 of set 1 | verkh-usugli\n",
      "Processing Record 523 of set 1 | presidencia roque saenz pena\n",
      "Processing Record 524 of set 1 | zorritos\n",
      "Processing Record 525 of set 1 | okha\n",
      "Processing Record 526 of set 1 | rio claro\n",
      "Processing Record 527 of set 1 | kargil\n",
      "Processing Record 528 of set 1 | melendugno\n",
      "Processing Record 529 of set 1 | macamic\n",
      "Processing Record 530 of set 1 | marsaxlokk\n",
      "Processing Record 531 of set 1 | karratha\n",
      "Processing Record 532 of set 1 | paamiut\n",
      "Processing Record 533 of set 1 | neiafu\n",
      "City not found Skipping...\n",
      "Processing Record 534 of set 1 | merauke\n",
      "Processing Record 535 of set 1 | calvinia\n",
      "Processing Record 536 of set 1 | grindavik\n",
      "Processing Record 537 of set 1 | algiers\n",
      "Processing Record 538 of set 1 | ayan\n",
      "Processing Record 539 of set 1 | hanna\n",
      "Processing Record 540 of set 1 | ust-maya\n",
      "City not found Skipping...\n",
      "Processing Record 541 of set 1 | shyroke\n",
      "Processing Record 542 of set 1 | ilhabela\n",
      "Processing Record 543 of set 1 | tacuarembo\n",
      "Processing Record 544 of set 1 | dawlatabad\n",
      "Processing Record 545 of set 1 | atherton\n",
      "Processing Record 546 of set 1 | bathsheba\n",
      "Processing Record 547 of set 1 | quchan\n",
      "Processing Record 548 of set 1 | kuryk\n",
      "Processing Record 549 of set 1 | oistins\n",
      "Processing Record 550 of set 1 | general roca\n",
      "Processing Record 551 of set 1 | junagarh\n",
      "Processing Record 552 of set 1 | mumford\n",
      "Processing Record 553 of set 1 | port-gentil\n",
      "Processing Record 554 of set 1 | husavik\n",
      "Processing Record 555 of set 1 | moindou\n",
      "Processing Record 556 of set 1 | tukrah\n",
      "Processing Record 557 of set 1 | soroti\n",
      "Processing Record 558 of set 1 | ayorou\n",
      "Processing Record 559 of set 1 | mizan teferi\n",
      "Processing Record 560 of set 1 | salcininkai\n",
      "Processing Record 561 of set 1 | benguela\n"
     ]
    },
    {
     "name": "stdout",
     "output_type": "stream",
     "text": [
      "Processing Record 562 of set 1 | tecpan\n",
      "Processing Record 563 of set 1 | ayr\n",
      "City not found Skipping...\n",
      "Processing Record 564 of set 1 | lekoni\n",
      "Processing Record 565 of set 1 | doha\n",
      "Processing Record 566 of set 1 | borba\n",
      "Processing Record 567 of set 1 | glushkovo\n",
      "Processing Record 568 of set 1 | guerrero negro\n",
      "Processing Record 569 of set 1 | polyarnyy\n",
      "Processing Record 570 of set 1 | del rio\n",
      "Processing Record 571 of set 1 | ewa beach\n",
      "Processing Record 572 of set 1 | yulara\n",
      "Processing Record 573 of set 1 | barstow\n",
      "City not found Skipping...\n",
      "Processing Record 574 of set 1 | nouakchott\n",
      "Processing Record 575 of set 1 | soavinandriana\n",
      "---------------\n",
      "Data Retrieval Complete\n",
      "---------------\n"
     ]
    }
   ],
   "source": [
    "city_sec = []\n",
    "cloudiness = []        \n",
    "dates= []\n",
    "humidities = []\n",
    "lats = []\n",
    "lngs = []\n",
    "max_temps = []\n",
    "wind_speeds = []\n",
    "countries = []\n",
    "\n",
    "count_one = 0\n",
    "set_one = 1\n",
    "\n",
    "for city in cities:\n",
    "    try:\n",
    "        response = requests.get(query_url + city).json()\n",
    "        cloudiness.append(response['clouds']['all'])\n",
    "        countries.append(response['sys']['country'])\n",
    "        dates.append(response['dt'])\n",
    "        humidities.append(response['main']['humidity'])\n",
    "        lats.append(response['coord']['lat'])\n",
    "        lngs.append(response['coord']['lon'])\n",
    "        max_temps.append(response['main']['temp_max'])\n",
    "        wind_speeds.append(response['wind']['speed'])\n",
    "        if count > 48:\n",
    "            count_one = 1\n",
    "            set_one += 1\n",
    "            city_sec.append(city)\n",
    "        else:\n",
    "            count_one += 1\n",
    "            city_sec.append(city)\n",
    "        print(f\"Processing Record {count_one} of set {set_one} | {city}\")\n",
    "    except Exception:\n",
    "        print(\"City not found Skipping...\")\n",
    "print(\"---------------\")\n",
    "print(\"Data Retrieval Complete\")\n",
    "print(\"---------------\")"
   ]
  },
  {
   "cell_type": "markdown",
   "metadata": {},
   "source": [
    "### Convert Raw Data to DataFrame\n",
    "* Export the city data into a .csv.\n",
    "* Display the DataFrame"
   ]
  },
  {
   "cell_type": "code",
   "execution_count": 56,
   "metadata": {},
   "outputs": [
    {
     "data": {
      "text/plain": [
       "City          575\n",
       "Cloudiness    575\n",
       "Country       575\n",
       "Date          575\n",
       "Humidity      575\n",
       "Lat           575\n",
       "Lng           575\n",
       "Max Temp      575\n",
       "Wind Speed    575\n",
       "dtype: int64"
      ]
     },
     "execution_count": 56,
     "metadata": {},
     "output_type": "execute_result"
    }
   ],
   "source": [
    "weather_dict = {\n",
    "    \"City\":city_sec,\n",
    "    \"Cloudiness\":cloudiness,\n",
    "    \"Country\":countries,\n",
    "    \"Date\":dates,\n",
    "    \"Humidity\":humidities,\n",
    "    \"Lat\":lats,\n",
    "    \"Lng\":lngs,\n",
    "    \"Max Temp\":max_temps,\n",
    "    \"Wind Speed\":wind_speeds\n",
    "}\n",
    "weather_df = pd.DataFrame(weather_dict)\n",
    "weather_df.count()"
   ]
  },
  {
   "cell_type": "code",
   "execution_count": 57,
   "metadata": {},
   "outputs": [
    {
     "data": {
      "text/html": [
       "<div>\n",
       "<style scoped>\n",
       "    .dataframe tbody tr th:only-of-type {\n",
       "        vertical-align: middle;\n",
       "    }\n",
       "\n",
       "    .dataframe tbody tr th {\n",
       "        vertical-align: top;\n",
       "    }\n",
       "\n",
       "    .dataframe thead th {\n",
       "        text-align: right;\n",
       "    }\n",
       "</style>\n",
       "<table border=\"1\" class=\"dataframe\">\n",
       "  <thead>\n",
       "    <tr style=\"text-align: right;\">\n",
       "      <th></th>\n",
       "      <th>City</th>\n",
       "      <th>Cloudiness</th>\n",
       "      <th>Country</th>\n",
       "      <th>Date</th>\n",
       "      <th>Humidity</th>\n",
       "      <th>Lat</th>\n",
       "      <th>Lng</th>\n",
       "      <th>Max Temp</th>\n",
       "      <th>Wind Speed</th>\n",
       "    </tr>\n",
       "  </thead>\n",
       "  <tbody>\n",
       "    <tr>\n",
       "      <th>0</th>\n",
       "      <td>dali</td>\n",
       "      <td>100</td>\n",
       "      <td>CN</td>\n",
       "      <td>1594930060</td>\n",
       "      <td>86</td>\n",
       "      <td>25.70</td>\n",
       "      <td>100.18</td>\n",
       "      <td>64.45</td>\n",
       "      <td>5.35</td>\n",
       "    </tr>\n",
       "    <tr>\n",
       "      <th>1</th>\n",
       "      <td>qaanaaq</td>\n",
       "      <td>94</td>\n",
       "      <td>GL</td>\n",
       "      <td>1594930074</td>\n",
       "      <td>77</td>\n",
       "      <td>77.48</td>\n",
       "      <td>-69.36</td>\n",
       "      <td>44.17</td>\n",
       "      <td>5.23</td>\n",
       "    </tr>\n",
       "    <tr>\n",
       "      <th>2</th>\n",
       "      <td>cape town</td>\n",
       "      <td>0</td>\n",
       "      <td>ZA</td>\n",
       "      <td>1594930079</td>\n",
       "      <td>87</td>\n",
       "      <td>-33.93</td>\n",
       "      <td>18.42</td>\n",
       "      <td>51.80</td>\n",
       "      <td>2.24</td>\n",
       "    </tr>\n",
       "    <tr>\n",
       "      <th>3</th>\n",
       "      <td>saint-philippe</td>\n",
       "      <td>75</td>\n",
       "      <td>RE</td>\n",
       "      <td>1594930075</td>\n",
       "      <td>72</td>\n",
       "      <td>-21.36</td>\n",
       "      <td>55.77</td>\n",
       "      <td>68.00</td>\n",
       "      <td>5.82</td>\n",
       "    </tr>\n",
       "    <tr>\n",
       "      <th>4</th>\n",
       "      <td>mataura</td>\n",
       "      <td>24</td>\n",
       "      <td>NZ</td>\n",
       "      <td>1594929893</td>\n",
       "      <td>98</td>\n",
       "      <td>-46.19</td>\n",
       "      <td>168.86</td>\n",
       "      <td>28.42</td>\n",
       "      <td>2.08</td>\n",
       "    </tr>\n",
       "  </tbody>\n",
       "</table>\n",
       "</div>"
      ],
      "text/plain": [
       "             City  Cloudiness Country        Date  Humidity    Lat     Lng  \\\n",
       "0            dali         100      CN  1594930060        86  25.70  100.18   \n",
       "1         qaanaaq          94      GL  1594930074        77  77.48  -69.36   \n",
       "2       cape town           0      ZA  1594930079        87 -33.93   18.42   \n",
       "3  saint-philippe          75      RE  1594930075        72 -21.36   55.77   \n",
       "4         mataura          24      NZ  1594929893        98 -46.19  168.86   \n",
       "\n",
       "   Max Temp  Wind Speed  \n",
       "0     64.45        5.35  \n",
       "1     44.17        5.23  \n",
       "2     51.80        2.24  \n",
       "3     68.00        5.82  \n",
       "4     28.42        2.08  "
      ]
     },
     "execution_count": 57,
     "metadata": {},
     "output_type": "execute_result"
    }
   ],
   "source": [
    "weather_df.head()"
   ]
  },
  {
   "cell_type": "code",
   "execution_count": 77,
   "metadata": {},
   "outputs": [
    {
     "data": {
      "text/html": [
       "<div>\n",
       "<style scoped>\n",
       "    .dataframe tbody tr th:only-of-type {\n",
       "        vertical-align: middle;\n",
       "    }\n",
       "\n",
       "    .dataframe tbody tr th {\n",
       "        vertical-align: top;\n",
       "    }\n",
       "\n",
       "    .dataframe thead th {\n",
       "        text-align: right;\n",
       "    }\n",
       "</style>\n",
       "<table border=\"1\" class=\"dataframe\">\n",
       "  <thead>\n",
       "    <tr style=\"text-align: right;\">\n",
       "      <th></th>\n",
       "      <th>Cloudiness</th>\n",
       "      <th>Country</th>\n",
       "      <th>Date</th>\n",
       "      <th>Humidity</th>\n",
       "      <th>Lat</th>\n",
       "      <th>Lng</th>\n",
       "      <th>Max Temp</th>\n",
       "      <th>Wind Speed</th>\n",
       "    </tr>\n",
       "    <tr>\n",
       "      <th>City</th>\n",
       "      <th></th>\n",
       "      <th></th>\n",
       "      <th></th>\n",
       "      <th></th>\n",
       "      <th></th>\n",
       "      <th></th>\n",
       "      <th></th>\n",
       "      <th></th>\n",
       "    </tr>\n",
       "  </thead>\n",
       "  <tbody>\n",
       "  </tbody>\n",
       "</table>\n",
       "</div>"
      ],
      "text/plain": [
       "Empty DataFrame\n",
       "Columns: [Cloudiness, Country, Date, Humidity, Lat, Lng, Max Temp, Wind Speed]\n",
       "Index: []"
      ]
     },
     "execution_count": 77,
     "metadata": {},
     "output_type": "execute_result"
    }
   ],
   "source": []
  },
  {
   "cell_type": "markdown",
   "metadata": {},
   "source": [
    "## Inspect the data and remove the cities where the humidity > 100%.\n",
    "----\n",
    "Skip this step if there are no cities that have humidity > 100%. "
   ]
  },
  {
   "cell_type": "code",
   "execution_count": 88,
   "metadata": {},
   "outputs": [
    {
     "data": {
      "text/plain": [
       "100"
      ]
     },
     "execution_count": 88,
     "metadata": {},
     "output_type": "execute_result"
    }
   ],
   "source": [
    "weather_df[\"Humidity\"].max()"
   ]
  },
  {
   "cell_type": "code",
   "execution_count": 93,
   "metadata": {},
   "outputs": [
    {
     "data": {
      "text/html": [
       "<div>\n",
       "<style scoped>\n",
       "    .dataframe tbody tr th:only-of-type {\n",
       "        vertical-align: middle;\n",
       "    }\n",
       "\n",
       "    .dataframe tbody tr th {\n",
       "        vertical-align: top;\n",
       "    }\n",
       "\n",
       "    .dataframe thead th {\n",
       "        text-align: right;\n",
       "    }\n",
       "</style>\n",
       "<table border=\"1\" class=\"dataframe\">\n",
       "  <thead>\n",
       "    <tr style=\"text-align: right;\">\n",
       "      <th></th>\n",
       "      <th>Cloudiness</th>\n",
       "      <th>Country</th>\n",
       "      <th>Date</th>\n",
       "      <th>Humidity</th>\n",
       "      <th>Lat</th>\n",
       "      <th>Lng</th>\n",
       "      <th>Max Temp</th>\n",
       "      <th>Wind Speed</th>\n",
       "    </tr>\n",
       "    <tr>\n",
       "      <th>City</th>\n",
       "      <th></th>\n",
       "      <th></th>\n",
       "      <th></th>\n",
       "      <th></th>\n",
       "      <th></th>\n",
       "      <th></th>\n",
       "      <th></th>\n",
       "      <th></th>\n",
       "    </tr>\n",
       "  </thead>\n",
       "  <tbody>\n",
       "  </tbody>\n",
       "</table>\n",
       "</div>"
      ],
      "text/plain": [
       "Empty DataFrame\n",
       "Columns: [Cloudiness, Country, Date, Humidity, Lat, Lng, Max Temp, Wind Speed]\n",
       "Index: []"
      ]
     },
     "execution_count": 93,
     "metadata": {},
     "output_type": "execute_result"
    }
   ],
   "source": [
    "#  Get the indices of cities that have humidity over 100%.\n",
    "grouped_weather = weather_df.groupby(['City']).count()\n",
    "grouped_weather.loc[grouped_weather[\"Humidity\"] > 100]"
   ]
  },
  {
   "cell_type": "code",
   "execution_count": 91,
   "metadata": {},
   "outputs": [
    {
     "data": {
      "text/html": [
       "<div>\n",
       "<style scoped>\n",
       "    .dataframe tbody tr th:only-of-type {\n",
       "        vertical-align: middle;\n",
       "    }\n",
       "\n",
       "    .dataframe tbody tr th {\n",
       "        vertical-align: top;\n",
       "    }\n",
       "\n",
       "    .dataframe thead th {\n",
       "        text-align: right;\n",
       "    }\n",
       "</style>\n",
       "<table border=\"1\" class=\"dataframe\">\n",
       "  <thead>\n",
       "    <tr style=\"text-align: right;\">\n",
       "      <th></th>\n",
       "      <th>City</th>\n",
       "      <th>Cloudiness</th>\n",
       "      <th>Country</th>\n",
       "      <th>Date</th>\n",
       "      <th>Humidity</th>\n",
       "      <th>Lat</th>\n",
       "      <th>Lng</th>\n",
       "      <th>Max Temp</th>\n",
       "      <th>Wind Speed</th>\n",
       "    </tr>\n",
       "  </thead>\n",
       "  <tbody>\n",
       "    <tr>\n",
       "      <th>0</th>\n",
       "      <td>dali</td>\n",
       "      <td>100</td>\n",
       "      <td>CN</td>\n",
       "      <td>1594930060</td>\n",
       "      <td>86</td>\n",
       "      <td>25.70</td>\n",
       "      <td>100.18</td>\n",
       "      <td>64.45</td>\n",
       "      <td>5.35</td>\n",
       "    </tr>\n",
       "    <tr>\n",
       "      <th>1</th>\n",
       "      <td>qaanaaq</td>\n",
       "      <td>94</td>\n",
       "      <td>GL</td>\n",
       "      <td>1594930074</td>\n",
       "      <td>77</td>\n",
       "      <td>77.48</td>\n",
       "      <td>-69.36</td>\n",
       "      <td>44.17</td>\n",
       "      <td>5.23</td>\n",
       "    </tr>\n",
       "    <tr>\n",
       "      <th>2</th>\n",
       "      <td>cape town</td>\n",
       "      <td>0</td>\n",
       "      <td>ZA</td>\n",
       "      <td>1594930079</td>\n",
       "      <td>87</td>\n",
       "      <td>-33.93</td>\n",
       "      <td>18.42</td>\n",
       "      <td>51.80</td>\n",
       "      <td>2.24</td>\n",
       "    </tr>\n",
       "    <tr>\n",
       "      <th>3</th>\n",
       "      <td>saint-philippe</td>\n",
       "      <td>75</td>\n",
       "      <td>RE</td>\n",
       "      <td>1594930075</td>\n",
       "      <td>72</td>\n",
       "      <td>-21.36</td>\n",
       "      <td>55.77</td>\n",
       "      <td>68.00</td>\n",
       "      <td>5.82</td>\n",
       "    </tr>\n",
       "    <tr>\n",
       "      <th>4</th>\n",
       "      <td>mataura</td>\n",
       "      <td>24</td>\n",
       "      <td>NZ</td>\n",
       "      <td>1594929893</td>\n",
       "      <td>98</td>\n",
       "      <td>-46.19</td>\n",
       "      <td>168.86</td>\n",
       "      <td>28.42</td>\n",
       "      <td>2.08</td>\n",
       "    </tr>\n",
       "  </tbody>\n",
       "</table>\n",
       "</div>"
      ],
      "text/plain": [
       "             City  Cloudiness Country        Date  Humidity    Lat     Lng  \\\n",
       "0            dali         100      CN  1594930060        86  25.70  100.18   \n",
       "1         qaanaaq          94      GL  1594930074        77  77.48  -69.36   \n",
       "2       cape town           0      ZA  1594930079        87 -33.93   18.42   \n",
       "3  saint-philippe          75      RE  1594930075        72 -21.36   55.77   \n",
       "4         mataura          24      NZ  1594929893        98 -46.19  168.86   \n",
       "\n",
       "   Max Temp  Wind Speed  \n",
       "0     64.45        5.35  \n",
       "1     44.17        5.23  \n",
       "2     51.80        2.24  \n",
       "3     68.00        5.82  \n",
       "4     28.42        2.08  "
      ]
     },
     "execution_count": 91,
     "metadata": {},
     "output_type": "execute_result"
    }
   ],
   "source": [
    "# Make a new DataFrame equal to the city data to drop all humidity outliers by index.\n",
    "# Passing \"inplace=False\" will make a copy of the city_data DataFrame, which we call \"clean_city_data\".\n",
    "weather_df.head()"
   ]
  },
  {
   "cell_type": "code",
   "execution_count": 92,
   "metadata": {},
   "outputs": [],
   "source": [
    "# Extract relevant fields from the data frame\n",
    "\n",
    "\n",
    "# Export the City_Data into a csv\n",
    "weather_df.to_csv(output_data_file)"
   ]
  },
  {
   "cell_type": "markdown",
   "metadata": {},
   "source": [
    "## Plotting the Data\n",
    "* Use proper labeling of the plots using plot titles (including date of analysis) and axes labels.\n",
    "* Save the plotted figures as .pngs."
   ]
  },
  {
   "cell_type": "markdown",
   "metadata": {},
   "source": [
    "## Latitude vs. Temperature Plot"
   ]
  },
  {
   "cell_type": "code",
   "execution_count": 98,
   "metadata": {
    "scrolled": true
   },
   "outputs": [
    {
     "data": {
      "image/png": "[encoded data removed]",
      "text/plain": [
       "<Figure size 432x288 with 1 Axes>"
      ]
     },
     "metadata": {
      "needs_background": "light"
     },
     "output_type": "display_data"
    }
   ],
   "source": [
    "plt.scatter(weather_df[\"Lat\"],weather_df[\"Max Temp\"],edgecolors=\"black\",facecolors=\"skyblue\")\n",
    "plt.title(\"City Latitude vs. Max Temperature (07/16/20)\")\n",
    "plt.xlabel(\"Latitude\")\n",
    "plt.ylabel(\"Max Temperature (F)\")\n",
    "plt.grid (b=True,which=\"major\",axis=\"both\",linestyle=\"-\",color=\"lightgrey\")\n",
    "plt.savefig(\"Output/fig1.png\")\n",
    "plt.show()"
   ]
  },
  {
   "cell_type": "markdown",
   "metadata": {},
   "source": [
    "## Latitude vs. Humidity Plot"
   ]
  },
  {
   "cell_type": "code",
   "execution_count": 106,
   "metadata": {},
   "outputs": [
    {
     "data": {
      "image/png": "[encoded data removed]",
      "text/plain": [
       "<Figure size 432x288 with 1 Axes>"
      ]
     },
     "metadata": {
      "needs_background": "light"
     },
     "output_type": "display_data"
    }
   ],
   "source": [
    "plt.scatter(weather_df[\"Lat\"],weather_df[\"Humidity\"],edgecolors=\"black\",facecolors=\"skyblue\")\n",
    "plt.title(\"City Latitude vs. Humidity (07/16/20)\")\n",
    "plt.xlabel(\"Latitude\")\n",
    "plt.ylabel(\"Humidity (%) \")\n",
    "plt.grid (b=True,which=\"major\",axis=\"both\",linestyle=\"-\",color=\"lightgrey\")\n",
    "plt.savefig(\"Output/fig2.png\")\n",
    "plt.show()"
   ]
  },
  {
   "cell_type": "markdown",
   "metadata": {},
   "source": [
    "## Latitude vs. Cloudiness Plot"
   ]
  },
  {
   "cell_type": "code",
   "execution_count": 105,
   "metadata": {},
   "outputs": [
    {
     "data": {
      "image/png": "[encoded data removed]",
      "text/plain": [
       "<Figure size 432x288 with 1 Axes>"
      ]
     },
     "metadata": {
      "needs_background": "light"
     },
     "output_type": "display_data"
    }
   ],
   "source": [
    "plt.scatter(weather_df[\"Lat\"],weather_df[\"Cloudiness\"],edgecolors=\"black\",facecolors=\"skyblue\")\n",
    "plt.title(\"City Latitude vs. Cloudiness (07/16/20)\")\n",
    "plt.xlabel(\"Latitude\")\n",
    "plt.ylabel(\"Cloudiness (%) \")\n",
    "plt.grid (b=True,which=\"major\",axis=\"both\",linestyle=\"-\",color=\"lightgrey\")\n",
    "plt.savefig(\"Output/fig2.png\")\n",
    "plt.show()"
   ]
  },
  {
   "cell_type": "markdown",
   "metadata": {},
   "source": [
    "## Latitude vs. Wind Speed Plot"
   ]
  },
  {
   "cell_type": "code",
   "execution_count": 104,
   "metadata": {},
   "outputs": [
    {
     "data": {
      "image/png": "[encoded data removed]",
      "text/plain": [
       "<Figure size 432x288 with 1 Axes>"
      ]
     },
     "metadata": {
      "needs_background": "light"
     },
     "output_type": "display_data"
    }
   ],
   "source": [
    "plt.scatter(weather_df[\"Lat\"],weather_df[\"Wind Speed\"],edgecolors=\"black\",facecolors=\"skyblue\")\n",
    "plt.title(\"City Latitude vs. Wind Speed (07/16/20)\")\n",
    "plt.xlabel(\"Latitude\")\n",
    "plt.ylabel(\"Wind Speed (mph)\")\n",
    "plt.grid (b=True,which=\"major\",axis=\"both\",linestyle=\"-\",color=\"lightgrey\")\n",
    "plt.savefig(\"Output/fig2.png\")\n",
    "plt.show()"
   ]
  },
  {
   "cell_type": "markdown",
   "metadata": {},
   "source": [
    "## Linear Regression"
   ]
  },
  {
   "cell_type": "code",
   "execution_count": 107,
   "metadata": {},
   "outputs": [
    {
     "name": "stdout",
     "output_type": "stream",
     "text": [
      "               City  Cloudiness Country        Date  Humidity    Lat     Lng  \\\n",
      "0              dali         100      CN  1594930060        86  25.70  100.18   \n",
      "1           qaanaaq          94      GL  1594930074        77  77.48  -69.36   \n",
      "2         cape town           0      ZA  1594930079        87 -33.93   18.42   \n",
      "3    saint-philippe          75      RE  1594930075        72 -21.36   55.77   \n",
      "4           mataura          24      NZ  1594929893        98 -46.19  168.86   \n",
      "..              ...         ...     ...         ...       ...    ...     ...   \n",
      "570       ewa beach          40      US  1594930120        65  21.32 -158.01   \n",
      "571          yulara           0      AU  1594930360        56 -25.24  130.99   \n",
      "572         barstow           1      US  1594930221        11  34.90 -117.02   \n",
      "573      nouakchott          20      MR  1594930361        69  18.09  -15.98   \n",
      "574  soavinandriana          75      MG  1594930151        72 -19.17   46.73   \n",
      "\n",
      "     Max Temp  Wind Speed  \n",
      "0       64.45        5.35  \n",
      "1       44.17        5.23  \n",
      "2       51.80        2.24  \n",
      "3       68.00        5.82  \n",
      "4       28.42        2.08  \n",
      "..        ...         ...  \n",
      "570     82.00        5.82  \n",
      "571     41.00        5.82  \n",
      "572    100.40        5.82  \n",
      "573     80.60       11.41  \n",
      "574     52.70        4.99  \n",
      "\n",
      "[575 rows x 9 columns]\n"
     ]
    }
   ],
   "source": [
    "print(weather_df)"
   ]
  },
  {
   "cell_type": "code",
   "execution_count": 112,
   "metadata": {},
   "outputs": [
    {
     "name": "stdout",
     "output_type": "stream",
     "text": [
      "The correlation between both factors is 0.01\n"
     ]
    }
   ],
   "source": [
    "# OPTIONAL: Create a function to create Linear Regression plots\n",
    "correlation = st.pearsonr(weather_df['Lat'],weather_df['Max Temp'])\n",
    "print(f\"The correlation between both factors is {round(correlation[0],2)}\")"
   ]
  },
  {
   "cell_type": "code",
   "execution_count": 120,
   "metadata": {},
   "outputs": [
    {
     "data": {
      "text/html": [
       "<div>\n",
       "<style scoped>\n",
       "    .dataframe tbody tr th:only-of-type {\n",
       "        vertical-align: middle;\n",
       "    }\n",
       "\n",
       "    .dataframe tbody tr th {\n",
       "        vertical-align: top;\n",
       "    }\n",
       "\n",
       "    .dataframe thead th {\n",
       "        text-align: right;\n",
       "    }\n",
       "</style>\n",
       "<table border=\"1\" class=\"dataframe\">\n",
       "  <thead>\n",
       "    <tr style=\"text-align: right;\">\n",
       "      <th></th>\n",
       "      <th>City</th>\n",
       "      <th>Cloudiness</th>\n",
       "      <th>Country</th>\n",
       "      <th>Date</th>\n",
       "      <th>Humidity</th>\n",
       "      <th>Lat</th>\n",
       "      <th>Lng</th>\n",
       "      <th>Max Temp</th>\n",
       "      <th>Wind Speed</th>\n",
       "    </tr>\n",
       "  </thead>\n",
       "  <tbody>\n",
       "    <tr>\n",
       "      <th>0</th>\n",
       "      <td>dali</td>\n",
       "      <td>100</td>\n",
       "      <td>CN</td>\n",
       "      <td>1594930060</td>\n",
       "      <td>86</td>\n",
       "      <td>25.70</td>\n",
       "      <td>100.18</td>\n",
       "      <td>64.45</td>\n",
       "      <td>5.35</td>\n",
       "    </tr>\n",
       "    <tr>\n",
       "      <th>1</th>\n",
       "      <td>qaanaaq</td>\n",
       "      <td>94</td>\n",
       "      <td>GL</td>\n",
       "      <td>1594930074</td>\n",
       "      <td>77</td>\n",
       "      <td>77.48</td>\n",
       "      <td>-69.36</td>\n",
       "      <td>44.17</td>\n",
       "      <td>5.23</td>\n",
       "    </tr>\n",
       "    <tr>\n",
       "      <th>6</th>\n",
       "      <td>albany</td>\n",
       "      <td>98</td>\n",
       "      <td>US</td>\n",
       "      <td>1594930075</td>\n",
       "      <td>57</td>\n",
       "      <td>42.60</td>\n",
       "      <td>-73.97</td>\n",
       "      <td>79.00</td>\n",
       "      <td>10.00</td>\n",
       "    </tr>\n",
       "    <tr>\n",
       "      <th>7</th>\n",
       "      <td>adrar</td>\n",
       "      <td>25</td>\n",
       "      <td>MR</td>\n",
       "      <td>1594930075</td>\n",
       "      <td>23</td>\n",
       "      <td>20.50</td>\n",
       "      <td>-10.07</td>\n",
       "      <td>94.75</td>\n",
       "      <td>14.00</td>\n",
       "    </tr>\n",
       "    <tr>\n",
       "      <th>9</th>\n",
       "      <td>longyearbyen</td>\n",
       "      <td>75</td>\n",
       "      <td>SJ</td>\n",
       "      <td>1594930076</td>\n",
       "      <td>87</td>\n",
       "      <td>78.22</td>\n",
       "      <td>15.64</td>\n",
       "      <td>44.60</td>\n",
       "      <td>2.24</td>\n",
       "    </tr>\n",
       "  </tbody>\n",
       "</table>\n",
       "</div>"
      ],
      "text/plain": [
       "           City  Cloudiness Country        Date  Humidity    Lat     Lng  \\\n",
       "0          dali         100      CN  1594930060        86  25.70  100.18   \n",
       "1       qaanaaq          94      GL  1594930074        77  77.48  -69.36   \n",
       "6        albany          98      US  1594930075        57  42.60  -73.97   \n",
       "7         adrar          25      MR  1594930075        23  20.50  -10.07   \n",
       "9  longyearbyen          75      SJ  1594930076        87  78.22   15.64   \n",
       "\n",
       "   Max Temp  Wind Speed  \n",
       "0     64.45        5.35  \n",
       "1     44.17        5.23  \n",
       "6     79.00       10.00  \n",
       "7     94.75       14.00  \n",
       "9     44.60        2.24  "
      ]
     },
     "execution_count": 120,
     "metadata": {},
     "output_type": "execute_result"
    }
   ],
   "source": [
    "# Create Northern and Southern Hemisphere DataFrames\n",
    "north_hem = weather_df.groupby(['City']).head()\n",
    "northern_data = north_hem[north_weather['Lat'] > 0]\n",
    "northern_data.head()"
   ]
  },
  {
   "cell_type": "code",
   "execution_count": 121,
   "metadata": {},
   "outputs": [
    {
     "data": {
      "text/html": [
       "<div>\n",
       "<style scoped>\n",
       "    .dataframe tbody tr th:only-of-type {\n",
       "        vertical-align: middle;\n",
       "    }\n",
       "\n",
       "    .dataframe tbody tr th {\n",
       "        vertical-align: top;\n",
       "    }\n",
       "\n",
       "    .dataframe thead th {\n",
       "        text-align: right;\n",
       "    }\n",
       "</style>\n",
       "<table border=\"1\" class=\"dataframe\">\n",
       "  <thead>\n",
       "    <tr style=\"text-align: right;\">\n",
       "      <th></th>\n",
       "      <th>City</th>\n",
       "      <th>Cloudiness</th>\n",
       "      <th>Country</th>\n",
       "      <th>Date</th>\n",
       "      <th>Humidity</th>\n",
       "      <th>Lat</th>\n",
       "      <th>Lng</th>\n",
       "      <th>Max Temp</th>\n",
       "      <th>Wind Speed</th>\n",
       "    </tr>\n",
       "  </thead>\n",
       "  <tbody>\n",
       "    <tr>\n",
       "      <th>2</th>\n",
       "      <td>cape town</td>\n",
       "      <td>0</td>\n",
       "      <td>ZA</td>\n",
       "      <td>1594930079</td>\n",
       "      <td>87</td>\n",
       "      <td>-33.93</td>\n",
       "      <td>18.42</td>\n",
       "      <td>51.80</td>\n",
       "      <td>2.24</td>\n",
       "    </tr>\n",
       "    <tr>\n",
       "      <th>3</th>\n",
       "      <td>saint-philippe</td>\n",
       "      <td>75</td>\n",
       "      <td>RE</td>\n",
       "      <td>1594930075</td>\n",
       "      <td>72</td>\n",
       "      <td>-21.36</td>\n",
       "      <td>55.77</td>\n",
       "      <td>68.00</td>\n",
       "      <td>5.82</td>\n",
       "    </tr>\n",
       "    <tr>\n",
       "      <th>4</th>\n",
       "      <td>mataura</td>\n",
       "      <td>24</td>\n",
       "      <td>NZ</td>\n",
       "      <td>1594929893</td>\n",
       "      <td>98</td>\n",
       "      <td>-46.19</td>\n",
       "      <td>168.86</td>\n",
       "      <td>28.42</td>\n",
       "      <td>2.08</td>\n",
       "    </tr>\n",
       "    <tr>\n",
       "      <th>5</th>\n",
       "      <td>hobart</td>\n",
       "      <td>40</td>\n",
       "      <td>AU</td>\n",
       "      <td>1594930075</td>\n",
       "      <td>93</td>\n",
       "      <td>-42.88</td>\n",
       "      <td>147.33</td>\n",
       "      <td>39.00</td>\n",
       "      <td>4.70</td>\n",
       "    </tr>\n",
       "    <tr>\n",
       "      <th>8</th>\n",
       "      <td>rikitea</td>\n",
       "      <td>100</td>\n",
       "      <td>PF</td>\n",
       "      <td>1594930076</td>\n",
       "      <td>83</td>\n",
       "      <td>-23.12</td>\n",
       "      <td>-134.97</td>\n",
       "      <td>73.47</td>\n",
       "      <td>4.14</td>\n",
       "    </tr>\n",
       "  </tbody>\n",
       "</table>\n",
       "</div>"
      ],
      "text/plain": [
       "             City  Cloudiness Country        Date  Humidity    Lat     Lng  \\\n",
       "2       cape town           0      ZA  1594930079        87 -33.93   18.42   \n",
       "3  saint-philippe          75      RE  1594930075        72 -21.36   55.77   \n",
       "4         mataura          24      NZ  1594929893        98 -46.19  168.86   \n",
       "5          hobart          40      AU  1594930075        93 -42.88  147.33   \n",
       "8         rikitea         100      PF  1594930076        83 -23.12 -134.97   \n",
       "\n",
       "   Max Temp  Wind Speed  \n",
       "2     51.80        2.24  \n",
       "3     68.00        5.82  \n",
       "4     28.42        2.08  \n",
       "5     39.00        4.70  \n",
       "8     73.47        4.14  "
      ]
     },
     "execution_count": 121,
     "metadata": {},
     "output_type": "execute_result"
    }
   ],
   "source": [
    "south_hem = weather_df.groupby(['City']).head()\n",
    "southern_data = south_hem[north_weather['Lat'] < 0]\n",
    "southern_data.head()"
   ]
  },
  {
   "cell_type": "markdown",
   "metadata": {},
   "source": [
    "####  Northern Hemisphere - Max Temp vs. Latitude Linear Regression"
   ]
  },
  {
   "cell_type": "code",
   "execution_count": 123,
   "metadata": {},
   "outputs": [
    {
     "name": "stdout",
     "output_type": "stream",
     "text": [
      "The r-squared is: -0.696498410259006\n",
      "The equation of the regression line is: y = -0.51x + 91.98\n"
     ]
    },
    {
     "data": {
      "image/png": "[encoded data removed]",
      "text/plain": [
       "<Figure size 432x288 with 1 Axes>"
      ]
     },
     "metadata": {
      "needs_background": "light"
     },
     "output_type": "display_data"
    }
   ],
   "source": [
    "x_values = northern_data['Lat']\n",
    "y_values = northern_data['Max Temp']\n",
    "(slope, intercept, rvalue, pvalue, stderr) = linregress(x_values, y_values)\n",
    "regress_values = x_values * slope + intercept\n",
    "line_eq = f'y = {str(round(slope,2))}x + {str(round(intercept,2))}'\n",
    "plt.scatter(x_values,y_values)\n",
    "plt.plot(x_values,regress_values,\"r-\")\n",
    "plt.annotate(line_eq,(17,37),fontsize=15,color=\"black\")\n",
    "plt.title(\"Northern Hemisphere - Max Temp vs. Latitude Linear Regression\")\n",
    "plt.xlabel(\"Latitude\")\n",
    "plt.ylabel(\"Max Temp\")\n",
    "print(f\"The r-squared is: {rvalue}\")\n",
    "print(f\"The equation of the regression line is: {line_eq}\")\n",
    "plt.savefig(\"Output/NorthMaxLat.png\")\n",
    "plt.show()"
   ]
  },
  {
   "cell_type": "markdown",
   "metadata": {},
   "source": [
    "####  Southern Hemisphere - Max Temp vs. Latitude Linear Regression"
   ]
  },
  {
   "cell_type": "code",
   "execution_count": 125,
   "metadata": {},
   "outputs": [
    {
     "name": "stdout",
     "output_type": "stream",
     "text": [
      "The r-squared is: 0.7955681618512892\n",
      "The equation of the regression line is: y = 0.9x + 83.42\n"
     ]
    },
    {
     "data": {
      "image/png": "[encoded data removed]",
      "text/plain": [
       "<Figure size 432x288 with 1 Axes>"
      ]
     },
     "metadata": {
      "needs_background": "light"
     },
     "output_type": "display_data"
    }
   ],
   "source": [
    "x_values = southern_data['Lat']\n",
    "y_values = southern_data['Max Temp']\n",
    "(slope, intercept, rvalue, pvalue, stderr) = linregress(x_values, y_values)\n",
    "regress_values = x_values * slope + intercept\n",
    "line_eq = f'y = {str(round(slope,2))}x + {str(round(intercept,2))}'\n",
    "plt.scatter(x_values,y_values)\n",
    "plt.plot(x_values,regress_values,\"r-\")\n",
    "plt.annotate(line_eq,(17,37),fontsize=15,color=\"black\")\n",
    "plt.title(\"Southern Hemisphere - Max Temp vs. Latitude Linear Regression\")\n",
    "plt.xlabel(\"Latitude\")\n",
    "plt.ylabel(\"Max Temp\")\n",
    "print(f\"The r-squared is: {rvalue}\")\n",
    "print(f\"The equation of the regression line is: {line_eq}\")\n",
    "plt.savefig(\"Output/SouthMaxLat.png\")\n",
    "plt.show()"
   ]
  },
  {
   "cell_type": "markdown",
   "metadata": {},
   "source": [
    "####  Northern Hemisphere - Humidity (%) vs. Latitude Linear Regression"
   ]
  },
  {
   "cell_type": "code",
   "execution_count": 127,
   "metadata": {},
   "outputs": [
    {
     "name": "stdout",
     "output_type": "stream",
     "text": [
      "The r-squared is: 0.13169504382730668\n",
      "The equation of the regression line is: y = 0.15x + 62.45\n"
     ]
    },
    {
     "data": {
      "image/png": "[encoded data removed]",
      "text/plain": [
       "<Figure size 432x288 with 1 Axes>"
      ]
     },
     "metadata": {
      "needs_background": "light"
     },
     "output_type": "display_data"
    }
   ],
   "source": [
    "x_values = northern_data['Lat']\n",
    "y_values = northern_data['Humidity']\n",
    "(slope, intercept, rvalue, pvalue, stderr) = linregress(x_values, y_values)\n",
    "regress_values = x_values * slope + intercept\n",
    "line_eq = f'y = {str(round(slope,2))}x + {str(round(intercept,2))}'\n",
    "plt.scatter(x_values,y_values)\n",
    "plt.plot(x_values,regress_values,\"r-\")\n",
    "plt.annotate(line_eq,(17,37),fontsize=15,color=\"black\")\n",
    "plt.title(\"Northern Hemisphere - Humidity vs. Latitude Linear Regression\")\n",
    "plt.xlabel(\"Latitude\")\n",
    "plt.ylabel(\"Humidity (%)\")\n",
    "print(f\"The r-squared is: {rvalue}\")\n",
    "print(f\"The equation of the regression line is: {line_eq}\")\n",
    "plt.savefig(\"Output/NorthHumid.png\")\n",
    "plt.show()"
   ]
  },
  {
   "cell_type": "markdown",
   "metadata": {},
   "source": [
    "####  Southern Hemisphere - Humidity (%) vs. Latitude Linear Regression"
   ]
  },
  {
   "cell_type": "code",
   "execution_count": 129,
   "metadata": {},
   "outputs": [
    {
     "name": "stdout",
     "output_type": "stream",
     "text": [
      "The r-squared is: -0.07842579649819208\n",
      "The equation of the regression line is: y = -0.12x + 65.86\n"
     ]
    },
    {
     "data": {
      "image/png": "[encoded data removed]",
      "text/plain": [
       "<Figure size 432x288 with 1 Axes>"
      ]
     },
     "metadata": {
      "needs_background": "light"
     },
     "output_type": "display_data"
    }
   ],
   "source": [
    "x_values = southern_data['Lat']\n",
    "y_values = southern_data['Humidity']\n",
    "(slope, intercept, rvalue, pvalue, stderr) = linregress(x_values, y_values)\n",
    "regress_values = x_values * slope + intercept\n",
    "line_eq = f'y = {str(round(slope,2))}x + {str(round(intercept,2))}'\n",
    "plt.scatter(x_values,y_values)\n",
    "plt.plot(x_values,regress_values,\"r-\")\n",
    "plt.annotate(line_eq,(17,37),fontsize=15,color=\"black\")\n",
    "plt.title(\"Southern Hemisphere - Humidity vs. Latitude Linear Regression\")\n",
    "plt.xlabel(\"Latitude\")\n",
    "plt.ylabel(\"Humidity (%)\")\n",
    "print(f\"The r-squared is: {rvalue}\")\n",
    "print(f\"The equation of the regression line is: {line_eq}\")\n",
    "plt.savefig(\"Output/SouthHumid.png\")\n",
    "plt.show()"
   ]
  },
  {
   "cell_type": "markdown",
   "metadata": {},
   "source": [
    "####  Northern Hemisphere - Cloudiness (%) vs. Latitude Linear Regression"
   ]
  },
  {
   "cell_type": "code",
   "execution_count": 130,
   "metadata": {},
   "outputs": [
    {
     "name": "stdout",
     "output_type": "stream",
     "text": [
      "The r-squared is: -0.01318545941797743\n",
      "The equation of the regression line is: y = -0.03x + 54.36\n"
     ]
    },
    {
     "data": {
      "image/png": "[encoded data removed]",
      "text/plain": [
       "<Figure size 432x288 with 1 Axes>"
      ]
     },
     "metadata": {
      "needs_background": "light"
     },
     "output_type": "display_data"
    }
   ],
   "source": [
    "x_values = northern_data['Lat']\n",
    "y_values = northern_data['Cloudiness']\n",
    "(slope, intercept, rvalue, pvalue, stderr) = linregress(x_values, y_values)\n",
    "regress_values = x_values * slope + intercept\n",
    "line_eq = f'y = {str(round(slope,2))}x + {str(round(intercept,2))}'\n",
    "plt.scatter(x_values,y_values)\n",
    "plt.plot(x_values,regress_values,\"r-\")\n",
    "plt.annotate(line_eq,(17,37),fontsize=15,color=\"black\")\n",
    "plt.title(\"Northern Hemisphere - Cloudiness vs. Latitude Linear Regression\")\n",
    "plt.xlabel(\"Latitude\")\n",
    "plt.ylabel(\"Cloudiness (%)\")\n",
    "print(f\"The r-squared is: {rvalue}\")\n",
    "print(f\"The equation of the regression line is: {line_eq}\")\n",
    "plt.savefig(\"Output/NorthCloud.png\")\n",
    "plt.show()"
   ]
  },
  {
   "cell_type": "markdown",
   "metadata": {},
   "source": [
    "####  Southern Hemisphere - Cloudiness (%) vs. Latitude Linear Regression"
   ]
  },
  {
   "cell_type": "code",
   "execution_count": 131,
   "metadata": {},
   "outputs": [
    {
     "name": "stdout",
     "output_type": "stream",
     "text": [
      "The r-squared is: 0.07315478821990172\n",
      "The equation of the regression line is: y = 0.21x + 42.98\n"
     ]
    },
    {
     "data": {
      "image/png": "[encoded data removed]",
      "text/plain": [
       "<Figure size 432x288 with 1 Axes>"
      ]
     },
     "metadata": {
      "needs_background": "light"
     },
     "output_type": "display_data"
    }
   ],
   "source": [
    "x_values = southern_data['Lat']\n",
    "y_values = southern_data['Cloudiness']\n",
    "(slope, intercept, rvalue, pvalue, stderr) = linregress(x_values, y_values)\n",
    "regress_values = x_values * slope + intercept\n",
    "line_eq = f'y = {str(round(slope,2))}x + {str(round(intercept,2))}'\n",
    "plt.scatter(x_values,y_values)\n",
    "plt.plot(x_values,regress_values,\"r-\")\n",
    "plt.annotate(line_eq,(17,37),fontsize=15,color=\"black\")\n",
    "plt.title(\"Southern Hemisphere - Cloudiness vs. Latitude Linear Regression\")\n",
    "plt.xlabel(\"Latitude\")\n",
    "plt.ylabel(\"Cloudiness (%)\")\n",
    "print(f\"The r-squared is: {rvalue}\")\n",
    "print(f\"The equation of the regression line is: {line_eq}\")\n",
    "plt.savefig(\"Output/SouthCloud.png\")\n",
    "plt.show()"
   ]
  },
  {
   "cell_type": "markdown",
   "metadata": {},
   "source": [
    "####  Northern Hemisphere - Wind Speed (mph) vs. Latitude Linear Regression"
   ]
  },
  {
   "cell_type": "code",
   "execution_count": 132,
   "metadata": {},
   "outputs": [
    {
     "name": "stdout",
     "output_type": "stream",
     "text": [
      "The r-squared is: -0.09688994984012438\n",
      "The equation of the regression line is: y = -0.02x + 9.24\n"
     ]
    },
    {
     "data": {
      "image/png": "[encoded data removed]",
      "text/plain": [
       "<Figure size 432x288 with 1 Axes>"
      ]
     },
     "metadata": {
      "needs_background": "light"
     },
     "output_type": "display_data"
    }
   ],
   "source": [
    "x_values = northern_data['Lat']\n",
    "y_values = northern_data['Wind Speed']\n",
    "(slope, intercept, rvalue, pvalue, stderr) = linregress(x_values, y_values)\n",
    "regress_values = x_values * slope + intercept\n",
    "line_eq = f'y = {str(round(slope,2))}x + {str(round(intercept,2))}'\n",
    "plt.scatter(x_values,y_values)\n",
    "plt.plot(x_values,regress_values,\"r-\")\n",
    "plt.annotate(line_eq,(17,37),fontsize=15,color=\"black\")\n",
    "plt.title(\"Northern Hemisphere - Wind Speed vs. Latitude Linear Regression\")\n",
    "plt.xlabel(\"Latitude\")\n",
    "plt.ylabel(\"Wind Speed (mph)\")\n",
    "print(f\"The r-squared is: {rvalue}\")\n",
    "print(f\"The equation of the regression line is: {line_eq}\")\n",
    "plt.savefig(\"Output/NorthWind.png\")\n",
    "plt.show()"
   ]
  },
  {
   "cell_type": "markdown",
   "metadata": {},
   "source": [
    "####  Southern Hemisphere - Wind Speed (mph) vs. Latitude Linear Regression"
   ]
  },
  {
   "cell_type": "code",
   "execution_count": 134,
   "metadata": {},
   "outputs": [
    {
     "name": "stdout",
     "output_type": "stream",
     "text": [
      "The r-squared is: 0.06207374919594623\n",
      "The equation of the regression line is: y = 0.02x + 8.22\n"
     ]
    },
    {
     "data": {
      "image/png": "[encoded data removed]",
      "text/plain": [
       "<Figure size 432x288 with 1 Axes>"
      ]
     },
     "metadata": {
      "needs_background": "light"
     },
     "output_type": "display_data"
    }
   ],
   "source": [
    "x_values = southern_data['Lat']\n",
    "y_values = southern_data['Wind Speed']\n",
    "(slope, intercept, rvalue, pvalue, stderr) = linregress(x_values, y_values)\n",
    "regress_values = x_values * slope + intercept\n",
    "line_eq = f'y = {str(round(slope,2))}x + {str(round(intercept,2))}'\n",
    "plt.scatter(x_values,y_values)\n",
    "plt.plot(x_values,regress_values,\"r-\")\n",
    "plt.annotate(line_eq,(17,37),fontsize=15,color=\"black\")\n",
    "plt.title(\"Southern Hemisphere - Wind Speed vs. Latitude Linear Regression\")\n",
    "plt.xlabel(\"Latitude\")\n",
    "plt.ylabel(\"Wind Speed (mph)\")\n",
    "print(f\"The r-squared is: {rvalue}\")\n",
    "print(f\"The equation of the regression line is: {line_eq}\")\n",
    "plt.savefig(\"Output/SouthWind.png\")\n",
    "plt.show()"
   ]
  },
  {
   "cell_type": "code",
   "execution_count": null,
   "metadata": {},
   "outputs": [],
   "source": []
  }
 ],
 "metadata": {
  "anaconda-cloud": {},
  "kernel_info": {
   "name": "python3"
  },
  "kernelspec": {
   "display_name": "Python 3",
   "language": "python",
   "name": "python3"
  },
  "language_info": {
   "codemirror_mode": {
    "name": "ipython",
    "version": 3
   },
   "file_extension": ".py",
   "mimetype": "text/x-python",
   "name": "python",
   "nbconvert_exporter": "python",
   "pygments_lexer": "ipython3",
   "version": "3.6.10"
  },
  "latex_envs": {
   "LaTeX_envs_menu_present": true,
   "autoclose": false,
   "autocomplete": true,
   "bibliofile": "biblio.bib",
   "cite_by": "apalike",
   "current_citInitial": 1,
   "eqLabelWithNumbers": true,
   "eqNumInitial": 1,
   "hotkeys": {
    "equation": "Ctrl-E",
    "itemize": "Ctrl-I"
   },
   "labels_anchors": false,
   "latex_user_defs": false,
   "report_style_numbering": false,
   "user_envs_cfg": false
  },
  "nteract": {
   "version": "0.12.3"
  }
 },
 "nbformat": 4,
 "nbformat_minor": 2
}
